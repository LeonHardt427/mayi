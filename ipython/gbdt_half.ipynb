{
 "cells": [
  {
   "cell_type": "code",
   "execution_count": 1,
   "metadata": {},
   "outputs": [],
   "source": [
    "import os\n",
    "import numpy as np \n",
    "import pandas as pd\n",
    "import matplotlib.pyplot as plt\n",
    "\n",
    "df_train = pd.read_csv(\"E:\\\\leonhardt\\\\mayi\\\\data\\\\train.csv\")\n",
    "df_test = pd.read_csv(\"E:\\\\leonhardt\\\\mayi\\\\data\\\\test_a.csv\")"
   ]
  },
  {
   "cell_type": "code",
   "execution_count": 9,
   "metadata": {},
   "outputs": [],
   "source": [
    "from sklearn.metrics import roc_auc_score,roc_curve\n",
    "def atec_metric(preds, labels):\n",
    "    fpr,tpr,threshhold=roc_curve(labels, preds)\n",
    "    return 'atec_metric', 0.4*tpr[fpr<=0.001][-1] + 0.3*tpr[fpr<=0.005][-1] + 0.3*tpr[fpr<=0.01][-1]"
   ]
  },
  {
   "cell_type": "code",
   "execution_count": 3,
   "metadata": {},
   "outputs": [
    {
     "name": "stderr",
     "output_type": "stream",
     "text": [
      "D:\\anaconda\\lib\\site-packages\\pandas\\core\\frame.py:3694: SettingWithCopyWarning: \n",
      "A value is trying to be set on a copy of a slice from a DataFrame\n",
      "\n",
      "See the caveats in the documentation: http://pandas.pydata.org/pandas-docs/stable/indexing.html#indexing-view-versus-copy\n",
      "  errors=errors)\n"
     ]
    }
   ],
   "source": [
    "df_train=df_train.loc[df_train['label']!=-1]\n",
    "df_train = df_train.fillna(0)\n",
    "train_set = df_train[df_train.loc[:, \"date\"]<=20171005]\n",
    "eva_set = df_train[df_train.loc[:, \"date\"]>20171005]\n",
    "train_label = train_set.loc[:, \"label\"]\n",
    "eva_label = eva_set.loc[:, \"label\"]\n",
    "train_set.drop([\"id\",\"date\", \"label\"], axis=1, inplace=True)\n",
    "eva_set.drop([\"id\",\"date\", \"label\"], axis=1, inplace=True)"
   ]
  },
  {
   "cell_type": "code",
   "execution_count": 4,
   "metadata": {},
   "outputs": [],
   "source": [
    "df_test = df_test.fillna(0)\n",
    "df_test.drop([\"date\",\"id\"],axis=1, inplace=True)"
   ]
  },
  {
   "cell_type": "code",
   "execution_count": 10,
   "metadata": {},
   "outputs": [
    {
     "name": "stdout",
     "output_type": "stream",
     "text": [
      "100 score is ('atec_metric', 0.15097418026294945)\n",
      "300 score is ('atec_metric', 0.25228892760969424)\n",
      "500 score is ('atec_metric', 0.013210834785363536)\n",
      "700 score is ('atec_metric', 0.019150958339933466)\n",
      "900 score is ('atec_metric', 0.24829716458102327)\n"
     ]
    }
   ],
   "source": [
    "from sklearn.ensemble import GradientBoostingClassifier\n",
    "# df_eval = pd.Series(index=range(10, 380, 30))\n",
    "for num in range(100, 1000, 200):\n",
    "    gbdt = GradientBoostingClassifier(  \n",
    "        init=None,  \n",
    "        learning_rate=0.05,  \n",
    "        loss='deviance',\n",
    "        max_depth=8,  \n",
    "        max_features=None,  \n",
    "        max_leaf_nodes=None,  \n",
    "        min_samples_leaf=1,  \n",
    "        min_samples_split=2,  \n",
    "        min_weight_fraction_leaf=0.0,  \n",
    "        n_estimators=num,  \n",
    "        random_state=None,  \n",
    "        subsample=1.0,  \n",
    "        verbose=0,  \n",
    "        warm_start=False,\n",
    "    )  \n",
    "    gbdt.fit(train_set, train_label)\n",
    "    eva_prob = gbdt.predict_proba(eva_set)\n",
    "    eva_score = atec_metric(eva_prob[:, 1], eva_label)\n",
    "    print(\"{0} score is {1}\".format(num, eva_score))\n",
    "    y_preds = gbdt.predict_proba(df_test)[:, 1]\n",
    "    np.savetxt(os.getcwd()+\"/prediction/gbdt_half0\"+str(num)+\".txt\", y_preds, delimiter=',')"
   ]
  },
  {
   "cell_type": "code",
   "execution_count": 40,
   "metadata": {},
   "outputs": [],
   "source": [
    "y_preds = gbdt.predict_proba(df_test)"
   ]
  },
  {
   "cell_type": "code",
   "execution_count": 41,
   "metadata": {},
   "outputs": [],
   "source": [
    "np.savetxt(os.getcwd()+\"/prediction/gbdt_half_mean_160.txt\", y_preds, delimiter=',')"
   ]
  },
  {
   "cell_type": "code",
   "execution_count": null,
   "metadata": {},
   "outputs": [],
   "source": []
  }
 ],
 "metadata": {
  "kernelspec": {
   "display_name": "Python 3",
   "language": "python",
   "name": "python3"
  },
  "language_info": {
   "codemirror_mode": {
    "name": "ipython",
    "version": 3
   },
   "file_extension": ".py",
   "mimetype": "text/x-python",
   "name": "python",
   "nbconvert_exporter": "python",
   "pygments_lexer": "ipython3",
   "version": "3.6.5"
  }
 },
 "nbformat": 4,
 "nbformat_minor": 2
}
