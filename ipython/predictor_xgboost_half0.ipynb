{
 "cells": [
  {
   "cell_type": "code",
   "execution_count": 1,
   "metadata": {},
   "outputs": [],
   "source": [
    "import os\n",
    "import numpy as np \n",
    "import pandas as pd\n",
    "import matplotlib.pyplot as plt\n",
    "\n",
    "df_train = pd.read_csv(\"E:\\\\leonhardt\\\\mayi\\\\data\\\\train.csv\")"
   ]
  },
  {
   "cell_type": "code",
   "execution_count": 2,
   "metadata": {},
   "outputs": [
    {
     "name": "stderr",
     "output_type": "stream",
     "text": [
      "D:\\anaconda\\lib\\site-packages\\pandas\\core\\frame.py:3694: SettingWithCopyWarning: \n",
      "A value is trying to be set on a copy of a slice from a DataFrame\n",
      "\n",
      "See the caveats in the documentation: http://pandas.pydata.org/pandas-docs/stable/indexing.html#indexing-view-versus-copy\n",
      "  errors=errors)\n"
     ]
    }
   ],
   "source": [
    "df_train=df_train.loc[df_train['label']!=-1]\n",
    "df_train = df_train.fillna(0)\n",
    "train_set = df_train[df_train.loc[:, \"date\"]<=20171005]\n",
    "eva_set = df_train[df_train.loc[:, \"date\"]>20171005]\n",
    "train_label = train_set.loc[:, \"label\"]\n",
    "eva_label = eva_set.loc[:, \"label\"]\n",
    "train_set.drop([\"id\",\"date\", \"label\"], axis=1, inplace=True)\n",
    "eva_set.drop([\"id\",\"date\", \"label\"], axis=1, inplace=True)"
   ]
  },
  {
   "cell_type": "code",
   "execution_count": 3,
   "metadata": {},
   "outputs": [],
   "source": [
    "df_test = pd.read_csv(\"E:\\\\leonhardt\\\\mayi\\\\data\\\\test_a.csv\")\n",
    "df_test = df_test.fillna(0)\n",
    "df_test.drop([\"date\",\"id\"],axis=1, inplace=True)"
   ]
  },
  {
   "cell_type": "code",
   "execution_count": 8,
   "metadata": {},
   "outputs": [],
   "source": [
    "from sklearn.metrics import roc_auc_score,roc_curve\n",
    "def atec_metric(preds, train_data):\n",
    "    labels = train_data.get_label()\n",
    "    fpr,tpr,threshhold=roc_curve(labels, preds)\n",
    "    return 'atec_metric', 0.4*tpr[fpr<=0.001][-1] + 0.3*tpr[fpr<=0.005][-1] + 0.3*tpr[fpr<=0.01][-1]"
   ]
  },
  {
   "cell_type": "code",
   "execution_count": 11,
   "metadata": {},
   "outputs": [],
   "source": [
    "import xgboost as xgb\n",
    "xgb_train = xgb.DMatrix(train_set, label=train_label)\n",
    "xgb_vaild = xgb.DMatrix(eva_set, label=eva_label)"
   ]
  },
  {
   "cell_type": "code",
   "execution_count": 12,
   "metadata": {},
   "outputs": [
    {
     "name": "stdout",
     "output_type": "stream",
     "text": [
      "[0]\ttrain-auc:0.958632\tval-auc:0.955429\ttrain-atec_metric:0.534378\tval-atec_metric:0.365262\n",
      "[50]\ttrain-auc:0.983283\tval-auc:0.967007\ttrain-atec_metric:0.685746\tval-atec_metric:0.485268\n",
      "[100]\ttrain-auc:0.985095\tval-auc:0.968053\ttrain-atec_metric:0.698055\tval-atec_metric:0.490559\n",
      "[150]\ttrain-auc:0.986338\tval-auc:0.96914\ttrain-atec_metric:0.714237\tval-atec_metric:0.494297\n",
      "[200]\ttrain-auc:0.987461\tval-auc:0.971627\ttrain-atec_metric:0.728129\tval-atec_metric:0.497862\n",
      "[250]\ttrain-auc:0.988311\tval-auc:0.972731\ttrain-atec_metric:0.739731\tval-atec_metric:0.500143\n",
      "[300]\ttrain-auc:0.989199\tval-auc:0.974243\ttrain-atec_metric:0.753538\tval-atec_metric:0.504103\n",
      "[350]\ttrain-auc:0.990053\tval-auc:0.973517\ttrain-atec_metric:0.764882\tval-atec_metric:0.506099\n",
      "[400]\ttrain-auc:0.990971\tval-auc:0.974507\ttrain-atec_metric:0.77664\tval-atec_metric:0.505655\n",
      "[450]\ttrain-auc:0.991775\tval-auc:0.976031\ttrain-atec_metric:0.787072\tval-atec_metric:0.505988\n",
      "[500]\ttrain-auc:0.992458\tval-auc:0.976861\ttrain-atec_metric:0.797814\tval-atec_metric:0.507968\n",
      "[550]\ttrain-auc:0.992954\tval-auc:0.977858\ttrain-atec_metric:0.80711\tval-atec_metric:0.509884\n",
      "[600]\ttrain-auc:0.993508\tval-auc:0.978405\ttrain-atec_metric:0.815786\tval-atec_metric:0.509979\n",
      "[650]\ttrain-auc:0.994155\tval-auc:0.97844\ttrain-atec_metric:0.824565\tval-atec_metric:0.510914\n",
      "[700]\ttrain-auc:0.994725\tval-auc:0.978383\ttrain-atec_metric:0.833706\tval-atec_metric:0.511864\n",
      "[750]\ttrain-auc:0.995204\tval-auc:0.97847\ttrain-atec_metric:0.841246\tval-atec_metric:0.514019\n",
      "[800]\ttrain-auc:0.99583\tval-auc:0.978939\ttrain-atec_metric:0.847771\tval-atec_metric:0.513844\n",
      "[850]\ttrain-auc:0.996306\tval-auc:0.979765\ttrain-atec_metric:0.853417\tval-atec_metric:0.513005\n",
      "[900]\ttrain-auc:0.996697\tval-auc:0.980409\ttrain-atec_metric:0.859838\tval-atec_metric:0.514003\n",
      "[950]\ttrain-auc:0.997016\tval-auc:0.981092\ttrain-atec_metric:0.865123\tval-atec_metric:0.513781\n",
      "[1000]\ttrain-auc:0.997279\tval-auc:0.981575\ttrain-atec_metric:0.869995\tval-atec_metric:0.513955\n",
      "[1050]\ttrain-auc:0.997504\tval-auc:0.981961\ttrain-atec_metric:0.875073\tval-atec_metric:0.51451\n",
      "[1100]\ttrain-auc:0.997689\tval-auc:0.982336\ttrain-atec_metric:0.879101\tval-atec_metric:0.514335\n",
      "[1150]\ttrain-auc:0.997849\tval-auc:0.982765\ttrain-atec_metric:0.882372\tval-atec_metric:0.514589\n",
      "[1200]\ttrain-auc:0.998009\tval-auc:0.983067\ttrain-atec_metric:0.886762\tval-atec_metric:0.514763\n",
      "[1250]\ttrain-auc:0.998151\tval-auc:0.98329\ttrain-atec_metric:0.891703\tval-atec_metric:0.515302\n",
      "[1299]\ttrain-auc:0.998279\tval-auc:0.983527\ttrain-atec_metric:0.896488\tval-atec_metric:0.514573\n"
     ]
    }
   ],
   "source": [
    "params={\n",
    "'booster':'gbtree',\n",
    "'objective': 'binary:logistic', #单分类的问题\n",
    "'gamma':0.1,  # 用于控制是否后剪枝的参数,越大越保守，一般0.1、0.2这样子。\n",
    "'max_depth':12, # 构建树的深度，越大越容易过拟合\n",
    "'lambda':2,  # 控制模型复杂度的权重值的L2正则化项参数，参数越大，模型越不容易过拟合。\n",
    "'subsample':0.7, # 随机采样训练样本\n",
    "'colsample_bytree':0.7, # 生成树时进行的列采样\n",
    "'min_child_weight':3, \n",
    "# 这个参数默认是 1，是每个叶子里面 h 的和至少是多少，对正负样本不均衡时的 0-1 分类而言\n",
    "#，假设 h 在 0.01 附近，min_child_weight 为 1 意味着叶子节点中最少需要包含 100 个样本。\n",
    "#这个参数非常影响结果，控制叶子节点中二阶导的和的最小值，该参数值越小，越容易 overfitting。 \n",
    "'silent':0 ,#设置成1则没有运行信息输出，最好是设置为0.\n",
    "'eta': 0.007, # 如同学习率\n",
    "'seed':10,\n",
    "'nthread':7,# cpu 线程数\n",
    "'eval_metric': 'auc',\n",
    "'n_jobs': -1\n",
    "}\n",
    "plst = list(params.items())\n",
    "num_rounds = 1300 # 迭代次数\n",
    "watchlist = [(xgb_train, 'train'),(xgb_vaild, 'val')]\n",
    "\n",
    "#训练模型并保存\n",
    "# early_stopping_rounds 当设置的迭代次数较大时，early_stopping_rounds 可在一定的迭代次数内准确率没有提升就停止训练\n",
    "model = xgb.train(plst, xgb_train, num_rounds, watchlist, feval = atec_metric,verbose_eval=50)"
   ]
  },
  {
   "cell_type": "code",
   "execution_count": 13,
   "metadata": {},
   "outputs": [],
   "source": [
    "xgb_test = xgb.DMatrix(df_test)\n",
    "y_preds_xgb = model.predict(xgb_test)"
   ]
  },
  {
   "cell_type": "code",
   "execution_count": 14,
   "metadata": {},
   "outputs": [
    {
     "name": "stdout",
     "output_type": "stream",
     "text": [
      "0.9225767\n",
      "8.566058e-05\n"
     ]
    }
   ],
   "source": [
    "print(y_preds_xgb.max())\n",
    "print(y_preds_xgb.min())"
   ]
  },
  {
   "cell_type": "code",
   "execution_count": 15,
   "metadata": {},
   "outputs": [],
   "source": [
    "np.savetxt(\"E:\\\\leonhardt\\\\mayi\\\\mayi\\\\ipython\\\\prediction/xgb_fil0_1300.txt\", y_preds_xgb, delimiter=\",\")"
   ]
  },
  {
   "cell_type": "code",
   "execution_count": 16,
   "metadata": {},
   "outputs": [
    {
     "name": "stdout",
     "output_type": "stream",
     "text": [
      "[0]\ttrain-auc:0.958632\tval-auc:0.955429\ttrain-atec_metric:0.534378\tval-atec_metric:0.365262\n",
      "[50]\ttrain-auc:0.983283\tval-auc:0.967007\ttrain-atec_metric:0.685746\tval-atec_metric:0.485268\n",
      "[100]\ttrain-auc:0.985095\tval-auc:0.968053\ttrain-atec_metric:0.698055\tval-atec_metric:0.490559\n",
      "[150]\ttrain-auc:0.986338\tval-auc:0.96914\ttrain-atec_metric:0.714237\tval-atec_metric:0.494297\n",
      "[200]\ttrain-auc:0.987461\tval-auc:0.971627\ttrain-atec_metric:0.728129\tval-atec_metric:0.497862\n",
      "[250]\ttrain-auc:0.988311\tval-auc:0.972731\ttrain-atec_metric:0.739731\tval-atec_metric:0.500143\n",
      "[300]\ttrain-auc:0.989199\tval-auc:0.974243\ttrain-atec_metric:0.753538\tval-atec_metric:0.504103\n",
      "[350]\ttrain-auc:0.990053\tval-auc:0.973517\ttrain-atec_metric:0.764882\tval-atec_metric:0.506099\n",
      "[400]\ttrain-auc:0.990971\tval-auc:0.974507\ttrain-atec_metric:0.77664\tval-atec_metric:0.505655\n",
      "[450]\ttrain-auc:0.991775\tval-auc:0.976031\ttrain-atec_metric:0.787072\tval-atec_metric:0.505988\n",
      "[500]\ttrain-auc:0.992458\tval-auc:0.976861\ttrain-atec_metric:0.797814\tval-atec_metric:0.507968\n",
      "[550]\ttrain-auc:0.992954\tval-auc:0.977858\ttrain-atec_metric:0.80711\tval-atec_metric:0.509884\n",
      "[600]\ttrain-auc:0.993508\tval-auc:0.978405\ttrain-atec_metric:0.815786\tval-atec_metric:0.509979\n",
      "[650]\ttrain-auc:0.994155\tval-auc:0.97844\ttrain-atec_metric:0.824565\tval-atec_metric:0.510914\n",
      "[700]\ttrain-auc:0.994725\tval-auc:0.978383\ttrain-atec_metric:0.833706\tval-atec_metric:0.511864\n",
      "[750]\ttrain-auc:0.995204\tval-auc:0.97847\ttrain-atec_metric:0.841246\tval-atec_metric:0.514019\n",
      "[800]\ttrain-auc:0.99583\tval-auc:0.978939\ttrain-atec_metric:0.847771\tval-atec_metric:0.513844\n",
      "[850]\ttrain-auc:0.996306\tval-auc:0.979765\ttrain-atec_metric:0.853417\tval-atec_metric:0.513005\n",
      "[900]\ttrain-auc:0.996697\tval-auc:0.980409\ttrain-atec_metric:0.859838\tval-atec_metric:0.514003\n",
      "[950]\ttrain-auc:0.997016\tval-auc:0.981092\ttrain-atec_metric:0.865123\tval-atec_metric:0.513781\n",
      "[1000]\ttrain-auc:0.997279\tval-auc:0.981575\ttrain-atec_metric:0.869995\tval-atec_metric:0.513955\n",
      "[1050]\ttrain-auc:0.997504\tval-auc:0.981961\ttrain-atec_metric:0.875073\tval-atec_metric:0.51451\n",
      "[1100]\ttrain-auc:0.997689\tval-auc:0.982336\ttrain-atec_metric:0.879101\tval-atec_metric:0.514335\n",
      "[1150]\ttrain-auc:0.997849\tval-auc:0.982765\ttrain-atec_metric:0.882372\tval-atec_metric:0.514589\n",
      "[1200]\ttrain-auc:0.998009\tval-auc:0.983067\ttrain-atec_metric:0.886762\tval-atec_metric:0.514763\n",
      "[1250]\ttrain-auc:0.998151\tval-auc:0.98329\ttrain-atec_metric:0.891703\tval-atec_metric:0.515302\n",
      "[1300]\ttrain-auc:0.99828\tval-auc:0.983533\ttrain-atec_metric:0.896626\tval-atec_metric:0.514557\n",
      "[1350]\ttrain-auc:0.998406\tval-auc:0.983683\ttrain-atec_metric:0.90136\tval-atec_metric:0.515096\n",
      "[1400]\ttrain-auc:0.998508\tval-auc:0.983855\ttrain-atec_metric:0.905113\tval-atec_metric:0.514098\n",
      "[1450]\ttrain-auc:0.998627\tval-auc:0.983958\ttrain-atec_metric:0.910277\tval-atec_metric:0.514225\n",
      "[1500]\ttrain-auc:0.998726\tval-auc:0.984009\ttrain-atec_metric:0.913996\tval-atec_metric:0.514383\n",
      "[1550]\ttrain-auc:0.998822\tval-auc:0.984079\ttrain-atec_metric:0.918282\tval-atec_metric:0.515223\n",
      "[1600]\ttrain-auc:0.998919\tval-auc:0.984118\ttrain-atec_metric:0.923068\tval-atec_metric:0.514811\n",
      "[1650]\ttrain-auc:0.999005\tval-auc:0.984149\ttrain-atec_metric:0.926614\tval-atec_metric:0.513876\n",
      "[1700]\ttrain-auc:0.99908\tval-auc:0.984206\ttrain-atec_metric:0.930229\tval-atec_metric:0.513987\n",
      "[1750]\ttrain-auc:0.999159\tval-auc:0.984204\ttrain-atec_metric:0.934068\tval-atec_metric:0.515714\n",
      "[1800]\ttrain-auc:0.99923\tval-auc:0.984221\ttrain-atec_metric:0.938371\tval-atec_metric:0.516411\n",
      "[1850]\ttrain-auc:0.999296\tval-auc:0.984241\ttrain-atec_metric:0.942882\tval-atec_metric:0.516521\n",
      "[1900]\ttrain-auc:0.999347\tval-auc:0.984265\ttrain-atec_metric:0.947048\tval-atec_metric:0.516284\n",
      "[1950]\ttrain-auc:0.999404\tval-auc:0.984261\ttrain-atec_metric:0.951489\tval-atec_metric:0.515397\n",
      "[1999]\ttrain-auc:0.999455\tval-auc:0.984277\ttrain-atec_metric:0.955173\tval-atec_metric:0.515223\n"
     ]
    }
   ],
   "source": [
    "params={\n",
    "'booster':'gbtree',\n",
    "'objective': 'binary:logistic', #单分类的问题\n",
    "'gamma':0.1,  # 用于控制是否后剪枝的参数,越大越保守，一般0.1、0.2这样子。\n",
    "'max_depth':12, # 构建树的深度，越大越容易过拟合\n",
    "'lambda':2,  # 控制模型复杂度的权重值的L2正则化项参数，参数越大，模型越不容易过拟合。\n",
    "'subsample':0.7, # 随机采样训练样本\n",
    "'colsample_bytree':0.7, # 生成树时进行的列采样\n",
    "'min_child_weight':3, \n",
    "# 这个参数默认是 1，是每个叶子里面 h 的和至少是多少，对正负样本不均衡时的 0-1 分类而言\n",
    "#，假设 h 在 0.01 附近，min_child_weight 为 1 意味着叶子节点中最少需要包含 100 个样本。\n",
    "#这个参数非常影响结果，控制叶子节点中二阶导的和的最小值，该参数值越小，越容易 overfitting。 \n",
    "'silent':0 ,#设置成1则没有运行信息输出，最好是设置为0.\n",
    "'eta': 0.007, # 如同学习率\n",
    "'seed':10,\n",
    "'nthread':7,# cpu 线程数\n",
    "'eval_metric': 'auc',\n",
    "'n_jobs': -1\n",
    "}\n",
    "plst = list(params.items())\n",
    "num_rounds = 2000 # 迭代次数\n",
    "watchlist = [(xgb_train, 'train'),(xgb_vaild, 'val')]\n",
    "\n",
    "#训练模型并保存\n",
    "# early_stopping_rounds 当设置的迭代次数较大时，early_stopping_rounds 可在一定的迭代次数内准确率没有提升就停止训练\n",
    "model = xgb.train(plst, xgb_train, num_rounds, watchlist, feval = atec_metric,verbose_eval=50)"
   ]
  },
  {
   "cell_type": "code",
   "execution_count": 17,
   "metadata": {},
   "outputs": [],
   "source": [
    "y_preds_xgb2000 = model.predict(xgb_test)"
   ]
  },
  {
   "cell_type": "code",
   "execution_count": 18,
   "metadata": {},
   "outputs": [
    {
     "name": "stdout",
     "output_type": "stream",
     "text": [
      "0.9225767\n",
      "8.566058e-05\n"
     ]
    }
   ],
   "source": [
    "print(y_preds_xgb.max())\n",
    "print(y_preds_xgb.min())\n",
    "np.savetxt(\"E:\\\\leonhardt\\\\mayi\\\\mayi\\\\ipython\\\\prediction/xgb_fil0_2000.txt\", y_preds_xgb, delimiter=\",\")"
   ]
  },
  {
   "cell_type": "code",
   "execution_count": 22,
   "metadata": {},
   "outputs": [
    {
     "name": "stderr",
     "output_type": "stream",
     "text": [
      "D:\\anaconda\\lib\\site-packages\\pandas\\core\\frame.py:3694: SettingWithCopyWarning: \n",
      "A value is trying to be set on a copy of a slice from a DataFrame\n",
      "\n",
      "See the caveats in the documentation: http://pandas.pydata.org/pandas-docs/stable/indexing.html#indexing-view-versus-copy\n",
      "  errors=errors)\n"
     ]
    }
   ],
   "source": [
    "df_train = df_train.fillna(0)\n",
    "train_set = df_train[df_train.loc[:, \"date\"]<20171005]\n",
    "eva_set = df_train[df_train.loc[:, \"date\"]>=20171005]\n",
    "train_label = train_set.loc[:, \"label\"]\n",
    "eva_label = eva_set.loc[:, \"label\"]\n",
    "train_set.drop([\"id\",\"date\", \"label\"], axis=1, inplace=True)\n",
    "eva_set.drop([\"id\",\"date\", \"label\"], axis=1, inplace=True)\n",
    "xgb_vaild = xgb.DMatrix(train_set, label=train_label)\n",
    "xgb_train = xgb.DMatrix(eva_set, label=eva_label)"
   ]
  },
  {
   "cell_type": "code",
   "execution_count": 24,
   "metadata": {},
   "outputs": [
    {
     "name": "stdout",
     "output_type": "stream",
     "text": [
      "[0]\ttrain-auc:0.957966\tval-auc:0.935514\ttrain-atec_metric:0.58813\tval-atec_metric:0.398538\n",
      "[50]\ttrain-auc:0.980101\tval-auc:0.961617\ttrain-atec_metric:0.692987\tval-atec_metric:0.474106\n",
      "[100]\ttrain-auc:0.984187\tval-auc:0.970274\ttrain-atec_metric:0.70948\tval-atec_metric:0.478122\n",
      "[150]\ttrain-auc:0.985364\tval-auc:0.972153\ttrain-atec_metric:0.72287\tval-atec_metric:0.482209\n",
      "[200]\ttrain-auc:0.986562\tval-auc:0.973966\ttrain-atec_metric:0.737036\tval-atec_metric:0.484252\n",
      "[250]\ttrain-auc:0.987547\tval-auc:0.97454\ttrain-atec_metric:0.74782\tval-atec_metric:0.486348\n",
      "[300]\ttrain-auc:0.988673\tval-auc:0.975338\ttrain-atec_metric:0.760978\tval-atec_metric:0.489766\n",
      "[350]\ttrain-auc:0.990032\tval-auc:0.977354\ttrain-atec_metric:0.771234\tval-atec_metric:0.491756\n",
      "[400]\ttrain-auc:0.991706\tval-auc:0.979491\ttrain-atec_metric:0.780745\tval-atec_metric:0.494768\n",
      "[450]\ttrain-auc:0.992682\tval-auc:0.980173\ttrain-atec_metric:0.792661\tval-atec_metric:0.494786\n",
      "[500]\ttrain-auc:0.993782\tval-auc:0.98087\ttrain-atec_metric:0.803801\tval-atec_metric:0.496354\n",
      "[550]\ttrain-auc:0.994548\tval-auc:0.981287\ttrain-atec_metric:0.812211\tval-atec_metric:0.495473\n",
      "[600]\ttrain-auc:0.995154\tval-auc:0.981655\ttrain-atec_metric:0.820978\tval-atec_metric:0.495015\n",
      "[650]\ttrain-auc:0.995564\tval-auc:0.981881\ttrain-atec_metric:0.82903\tval-atec_metric:0.495931\n",
      "[700]\ttrain-auc:0.995963\tval-auc:0.982036\ttrain-atec_metric:0.838355\tval-atec_metric:0.495156\n",
      "[750]\ttrain-auc:0.996255\tval-auc:0.982118\ttrain-atec_metric:0.844748\tval-atec_metric:0.495279\n",
      "[800]\ttrain-auc:0.996578\tval-auc:0.982222\ttrain-atec_metric:0.851109\tval-atec_metric:0.495631\n",
      "[850]\ttrain-auc:0.996857\tval-auc:0.982235\ttrain-atec_metric:0.859022\tval-atec_metric:0.495279\n",
      "[900]\ttrain-auc:0.997101\tval-auc:0.982267\ttrain-atec_metric:0.86467\tval-atec_metric:0.495491\n",
      "[950]\ttrain-auc:0.997321\tval-auc:0.982278\ttrain-atec_metric:0.869232\tval-atec_metric:0.495138\n",
      "[1000]\ttrain-auc:0.997514\tval-auc:0.982305\ttrain-atec_metric:0.873282\tval-atec_metric:0.494557\n",
      "[1050]\ttrain-auc:0.997686\tval-auc:0.982371\ttrain-atec_metric:0.878262\tval-atec_metric:0.495015\n",
      "[1100]\ttrain-auc:0.997834\tval-auc:0.982417\ttrain-atec_metric:0.881877\tval-atec_metric:0.495262\n",
      "[1150]\ttrain-auc:0.997972\tval-auc:0.982536\ttrain-atec_metric:0.886377\tval-atec_metric:0.495825\n",
      "[1200]\ttrain-auc:0.998098\tval-auc:0.982662\ttrain-atec_metric:0.890737\tval-atec_metric:0.497393\n",
      "[1250]\ttrain-auc:0.998216\tval-auc:0.982698\ttrain-atec_metric:0.894864\tval-atec_metric:0.496565\n",
      "[1300]\ttrain-auc:0.99833\tval-auc:0.982792\ttrain-atec_metric:0.898759\tval-atec_metric:0.496935\n",
      "[1350]\ttrain-auc:0.998438\tval-auc:0.982884\ttrain-atec_metric:0.902839\tval-atec_metric:0.497305\n",
      "[1400]\ttrain-auc:0.998543\tval-auc:0.98296\ttrain-atec_metric:0.907184\tval-atec_metric:0.497199\n",
      "[1450]\ttrain-auc:0.998641\tval-auc:0.983036\ttrain-atec_metric:0.911746\tval-atec_metric:0.496301\n",
      "[1500]\ttrain-auc:0.998731\tval-auc:0.983085\ttrain-atec_metric:0.916012\tval-atec_metric:0.49579\n",
      "[1550]\ttrain-auc:0.99882\tval-auc:0.983105\ttrain-atec_metric:0.921505\tval-atec_metric:0.496019\n",
      "[1600]\ttrain-auc:0.998896\tval-auc:0.983163\ttrain-atec_metric:0.924794\tval-atec_metric:0.496741\n",
      "[1650]\ttrain-auc:0.998981\tval-auc:0.983213\ttrain-atec_metric:0.92886\tval-atec_metric:0.496953\n",
      "[1700]\ttrain-auc:0.99906\tval-auc:0.983277\ttrain-atec_metric:0.932739\tval-atec_metric:0.496125\n",
      "[1750]\ttrain-auc:0.99913\tval-auc:0.983323\ttrain-atec_metric:0.93654\tval-atec_metric:0.496847\n",
      "[1800]\ttrain-auc:0.999192\tval-auc:0.983341\ttrain-atec_metric:0.940109\tval-atec_metric:0.4966\n",
      "[1850]\ttrain-auc:0.99926\tval-auc:0.983385\ttrain-atec_metric:0.943801\tval-atec_metric:0.496688\n",
      "[1900]\ttrain-auc:0.999324\tval-auc:0.983407\ttrain-atec_metric:0.947448\tval-atec_metric:0.49616\n",
      "[1950]\ttrain-auc:0.999381\tval-auc:0.983411\ttrain-atec_metric:0.950597\tval-atec_metric:0.495737\n",
      "[2000]\ttrain-auc:0.999431\tval-auc:0.983406\ttrain-atec_metric:0.954166\tval-atec_metric:0.49623\n",
      "[2050]\ttrain-auc:0.99948\tval-auc:0.98344\ttrain-atec_metric:0.95685\tval-atec_metric:0.496882\n",
      "[2100]\ttrain-auc:0.999525\tval-auc:0.983453\ttrain-atec_metric:0.958867\tval-atec_metric:0.496477\n",
      "[2150]\ttrain-auc:0.999566\tval-auc:0.983456\ttrain-atec_metric:0.961645\tval-atec_metric:0.496477\n",
      "[2200]\ttrain-auc:0.999607\tval-auc:0.983464\ttrain-atec_metric:0.965275\tval-atec_metric:0.497234\n",
      "[2250]\ttrain-auc:0.999639\tval-auc:0.983496\ttrain-atec_metric:0.968208\tval-atec_metric:0.497869\n",
      "[2300]\ttrain-auc:0.999673\tval-auc:0.983519\ttrain-atec_metric:0.970597\tval-atec_metric:0.498274\n",
      "[2350]\ttrain-auc:0.999702\tval-auc:0.983532\ttrain-atec_metric:0.972676\tval-atec_metric:0.498062\n",
      "[2400]\ttrain-auc:0.99973\tval-auc:0.983532\ttrain-atec_metric:0.97474\tval-atec_metric:0.497252\n",
      "[2450]\ttrain-auc:0.999755\tval-auc:0.983521\ttrain-atec_metric:0.977145\tval-atec_metric:0.496688\n",
      "[2500]\ttrain-auc:0.99978\tval-auc:0.983527\ttrain-atec_metric:0.978479\tval-atec_metric:0.496089\n",
      "[2550]\ttrain-auc:0.999801\tval-auc:0.983548\ttrain-atec_metric:0.980078\tval-atec_metric:0.496759\n",
      "[2600]\ttrain-auc:0.999824\tval-auc:0.98356\ttrain-atec_metric:0.982079\tval-atec_metric:0.497393\n",
      "[2650]\ttrain-auc:0.999842\tval-auc:0.98356\ttrain-atec_metric:0.983646\tval-atec_metric:0.496759\n",
      "[2700]\ttrain-auc:0.999858\tval-auc:0.983569\ttrain-atec_metric:0.985601\tval-atec_metric:0.496882\n",
      "[2750]\ttrain-auc:0.999872\tval-auc:0.983575\ttrain-atec_metric:0.987324\tval-atec_metric:0.496089\n",
      "[2800]\ttrain-auc:0.999887\tval-auc:0.98358\ttrain-atec_metric:0.98886\tval-atec_metric:0.496336\n",
      "[2850]\ttrain-auc:0.9999\tval-auc:0.983594\ttrain-atec_metric:0.990566\tval-atec_metric:0.496125\n",
      "[2900]\ttrain-auc:0.999911\tval-auc:0.983586\ttrain-atec_metric:0.991342\tval-atec_metric:0.495332\n",
      "[2950]\ttrain-auc:0.999922\tval-auc:0.983592\ttrain-atec_metric:0.992258\tval-atec_metric:0.495579\n",
      "[2999]\ttrain-auc:0.999929\tval-auc:0.983599\ttrain-atec_metric:0.993359\tval-atec_metric:0.495579\n"
     ]
    }
   ],
   "source": [
    "params={\n",
    "'booster':'gbtree',\n",
    "'objective': 'binary:logistic', #单分类的问题\n",
    "'gamma':0.1,  # 用于控制是否后剪枝的参数,越大越保守，一般0.1、0.2这样子。\n",
    "'max_depth':12, # 构建树的深度，越大越容易过拟合\n",
    "'lambda':2,  # 控制模型复杂度的权重值的L2正则化项参数，参数越大，模型越不容易过拟合。\n",
    "'subsample':0.7, # 随机采样训练样本\n",
    "'colsample_bytree':0.7, # 生成树时进行的列采样\n",
    "'min_child_weight':3, \n",
    "# 这个参数默认是 1，是每个叶子里面 h 的和至少是多少，对正负样本不均衡时的 0-1 分类而言\n",
    "#，假设 h 在 0.01 附近，min_child_weight 为 1 意味着叶子节点中最少需要包含 100 个样本。\n",
    "#这个参数非常影响结果，控制叶子节点中二阶导的和的最小值，该参数值越小，越容易 overfitting。 \n",
    "'silent':0 ,#设置成1则没有运行信息输出，最好是设置为0.\n",
    "'eta': 0.007, # 如同学习率\n",
    "'seed':10,\n",
    "'nthread':7,# cpu 线程数\n",
    "'eval_metric': 'auc',\n",
    "'n_jobs': -1\n",
    "}\n",
    "plst = list(params.items())\n",
    "num_rounds = 3000 # 迭代次数\n",
    "watchlist = [(xgb_train, 'train'),(xgb_vaild, 'val')]\n",
    "\n",
    "#训练模型并保存\n",
    "# early_stopping_rounds 当设置的迭代次数较大时，early_stopping_rounds 可在一定的迭代次数内准确率没有提升就停止训练\n",
    "model = xgb.train(plst, xgb_train, num_rounds, watchlist, feval = atec_metric,verbose_eval=50)"
   ]
  },
  {
   "cell_type": "code",
   "execution_count": null,
   "metadata": {},
   "outputs": [],
   "source": []
  }
 ],
 "metadata": {
  "kernelspec": {
   "display_name": "Python 3",
   "language": "python",
   "name": "python3"
  },
  "language_info": {
   "codemirror_mode": {
    "name": "ipython",
    "version": 3
   },
   "file_extension": ".py",
   "mimetype": "text/x-python",
   "name": "python",
   "nbconvert_exporter": "python",
   "pygments_lexer": "ipython3",
   "version": "3.6.5"
  }
 },
 "nbformat": 4,
 "nbformat_minor": 2
}
