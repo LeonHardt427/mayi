{
 "cells": [
  {
   "cell_type": "code",
   "execution_count": 9,
   "metadata": {},
   "outputs": [],
   "source": [
    "%matplotlib inline\n",
    "import os\n",
    "import pandas as pd\n",
    "import lightgbm as lgb\n",
    "import numpy as np\n",
    "import os\n",
    "from __future__ import division\n",
    "from sklearn.model_selection import train_test_split\n",
    "from sklearn.metrics import roc_auc_score,roc_curve\n",
    "pd.set_option('display.max_rows', 1000)\n",
    "pd.set_option('display.max_columns', 1000)\n",
    "\n",
    "df_train=pd.read_csv('../data/train.csv', parse_dates=['date'])"
   ]
  },
  {
   "cell_type": "code",
   "execution_count": 10,
   "metadata": {},
   "outputs": [],
   "source": [
    "df_train_clean=df_train.loc[df_train['label']!=-1]\n",
    "del df_train\n",
    "y=df_train_clean['label']\n",
    "X=df_train_clean.drop(['id','label','date'],axis=1)\n",
    "x_train,x_test,y_train,y_test=train_test_split(X,y,test_size=0.1,random_state=69)"
   ]
  },
  {
   "cell_type": "code",
   "execution_count": 11,
   "metadata": {},
   "outputs": [],
   "source": [
    "num_values=1000\n",
    "category_feature=[]\n",
    "for i in range(X.shape[1]):\n",
    "    num = X['f'+str(i+1)].unique().shape[0]\n",
    "    if num <=num_values:\n",
    "        category_feature.append(i)"
   ]
  },
  {
   "cell_type": "code",
   "execution_count": 12,
   "metadata": {},
   "outputs": [],
   "source": [
    "def atec_metric(preds, train_data):\n",
    "    labels = train_data.get_label()\n",
    "    fpr,tpr,threshhold=roc_curve(labels, preds)\n",
    "    return 'atec_metric', 0.4*tpr[fpr<=0.001][-1] + 0.3*tpr[fpr<=0.005][-1] + 0.3*tpr[fpr<=0.01][-1], True"
   ]
  },
  {
   "cell_type": "code",
   "execution_count": 22,
   "metadata": {},
   "outputs": [],
   "source": [
    "lgb_train=lgb.Dataset(x_train,y_train,free_raw_data=False)\n",
    "lgb_valid=lgb.Dataset(x_test,y_test,reference=lgb_train,free_raw_data=False)\n",
    "params = {'boosting_type': 'gbdt',\n",
    "          'objective': 'binary', \n",
    "          'metric': 'auc', \n",
    "          'device': 'cpu', \n",
    "          'verbose': 0, \n",
    "          'learning_rate': 0.01, \n",
    "          'bagging_fraction': 0.8,\n",
    "          'bagging_freq': 5,\n",
    "          'feature_fraction': 0.9,\n",
    "          'lambda_l1': 0.006, \n",
    "          'num_leaves': 128,\n",
    "          'early_stopping_round': 20\n",
    "}\n",
    "feature_name=['feasture_'+str(col+1) for col in range(x_train.shape[1])]"
   ]
  },
  {
   "cell_type": "code",
   "execution_count": 23,
   "metadata": {},
   "outputs": [
    {
     "name": "stdout",
     "output_type": "stream",
     "text": [
      "[500]\tvalid_set's auc: 0.989652\tvalid_set's atec_metric: 0.638842\n",
      "[1000]\tvalid_set's auc: 0.991434\tvalid_set's atec_metric: 0.666354\n",
      "[1500]\tvalid_set's auc: 0.991802\tvalid_set's atec_metric: 0.675043\n",
      "[2000]\tvalid_set's auc: 0.992012\tvalid_set's atec_metric: 0.683475\n",
      "[2500]\tvalid_set's auc: 0.992133\tvalid_set's atec_metric: 0.689693\n",
      "[3000]\tvalid_set's auc: 0.992224\tvalid_set's atec_metric: 0.692589\n",
      "[3500]\tvalid_set's auc: 0.992284\tvalid_set's atec_metric: 0.693441\n",
      "[4000]\tvalid_set's auc: 0.992391\tvalid_set's atec_metric: 0.696082\n",
      "[4500]\tvalid_set's auc: 0.992385\tvalid_set's atec_metric: 0.697189\n",
      "[5000]\tvalid_set's auc: 0.99242\tvalid_set's atec_metric: 0.698126\n",
      "[5500]\tvalid_set's auc: 0.992452\tvalid_set's atec_metric: 0.700256\n",
      "[6000]\tvalid_set's auc: 0.992494\tvalid_set's atec_metric: 0.700426\n",
      "[6500]\tvalid_set's auc: 0.992454\tvalid_set's atec_metric: 0.7023\n",
      "[7000]\tvalid_set's auc: 0.99247\tvalid_set's atec_metric: 0.703322\n",
      "[7500]\tvalid_set's auc: 0.992486\tvalid_set's atec_metric: 0.704429\n",
      "[8000]\tvalid_set's auc: 0.992506\tvalid_set's atec_metric: 0.703066\n",
      "[8500]\tvalid_set's auc: 0.992504\tvalid_set's atec_metric: 0.701448\n",
      "[9000]\tvalid_set's auc: 0.992507\tvalid_set's atec_metric: 0.700596\n",
      "[9500]\tvalid_set's auc: 0.992505\tvalid_set's atec_metric: 0.701363\n",
      "[10000]\tvalid_set's auc: 0.992468\tvalid_set's atec_metric: 0.701107\n"
     ]
    }
   ],
   "source": [
    "gbm=lgb.train(params, lgb_train, num_boost_round=10000, valid_sets=lgb_valid, valid_names='valid_set', feval=atec_metric, verbose_eval=500)"
   ]
  },
  {
   "cell_type": "code",
   "execution_count": 25,
   "metadata": {},
   "outputs": [],
   "source": [
    "df_test=pd.read_csv('../data/test.csv', parse_dates=['date'])\n",
    "X_test=df_test.drop(['id','date'],axis=1)"
   ]
  },
  {
   "cell_type": "code",
   "execution_count": 27,
   "metadata": {},
   "outputs": [],
   "source": [
    "y_test = gbm.predict(X_test)"
   ]
  },
  {
   "cell_type": "code",
   "execution_count": 32,
   "metadata": {},
   "outputs": [],
   "source": [
    "np.savetxt(os.getcwd()+\"/prediction/lgb_10000_1.txt\", y_test, delimiter=',')"
   ]
  },
  {
   "cell_type": "code",
   "execution_count": null,
   "metadata": {},
   "outputs": [],
   "source": []
  }
 ],
 "metadata": {
  "kernelspec": {
   "display_name": "Python 3",
   "language": "python",
   "name": "python3"
  },
  "language_info": {
   "codemirror_mode": {
    "name": "ipython",
    "version": 3
   },
   "file_extension": ".py",
   "mimetype": "text/x-python",
   "name": "python",
   "nbconvert_exporter": "python",
   "pygments_lexer": "ipython3",
   "version": "3.6.5"
  }
 },
 "nbformat": 4,
 "nbformat_minor": 2
}
