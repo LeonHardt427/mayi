{
 "cells": [
  {
   "cell_type": "code",
   "execution_count": 1,
   "metadata": {},
   "outputs": [],
   "source": [
    "import os\n",
    "import numpy as np \n",
    "import pandas as pd\n",
    "import matplotlib.pyplot as plt\n",
    "\n",
    "df_train = pd.read_csv(\"E:\\\\leonhardt\\\\mayi\\\\data\\\\train.csv\")"
   ]
  },
  {
   "cell_type": "code",
   "execution_count": 2,
   "metadata": {},
   "outputs": [
    {
     "name": "stderr",
     "output_type": "stream",
     "text": [
      "D:\\anaconda\\lib\\site-packages\\pandas\\core\\frame.py:3694: SettingWithCopyWarning: \n",
      "A value is trying to be set on a copy of a slice from a DataFrame\n",
      "\n",
      "See the caveats in the documentation: http://pandas.pydata.org/pandas-docs/stable/indexing.html#indexing-view-versus-copy\n",
      "  errors=errors)\n"
     ]
    }
   ],
   "source": [
    "df_train=df_train.loc[df_train['label']!=-1]\n",
    "df_train = df_train.fillna(0)\n",
    "train_set = df_train[df_train.loc[:, \"date\"]<=20171005]\n",
    "eva_set = df_train[df_train.loc[:, \"date\"]>20171005]\n",
    "train_label = train_set.loc[:, \"label\"]\n",
    "eva_label = eva_set.loc[:, \"label\"]\n",
    "train_set.drop([\"id\",\"date\", \"label\"], axis=1, inplace=True)\n",
    "eva_set.drop([\"id\",\"date\", \"label\"], axis=1, inplace=True)"
   ]
  },
  {
   "cell_type": "code",
   "execution_count": 29,
   "metadata": {},
   "outputs": [],
   "source": [
    "from sklearn.metrics import roc_auc_score,roc_curve\n",
    "def atec_metric(preds, train_data):\n",
    "    labels = train_data.get_label()\n",
    "    fpr,tpr,threshhold=roc_curve(labels, preds)\n",
    "    return 'atec_metric', 0.4*tpr[fpr<=0.001][-1] + 0.3*tpr[fpr<=0.005][-1] + 0.3*tpr[fpr<=0.01][-1], True"
   ]
  },
  {
   "cell_type": "code",
   "execution_count": 25,
   "metadata": {},
   "outputs": [],
   "source": [
    "import lightgbm as lgb\n",
    "lgb_train=lgb.Dataset(train_set,train_label,free_raw_data=False)\n",
    "lgb_valid=lgb.Dataset(eva_set,eva_label,reference=lgb_train,free_raw_data=False)\n",
    "params = {'boosting_type': 'gbdt',\n",
    "          'objective': 'binary', \n",
    "          'metric': 'auc', \n",
    "          'device': 'cpu', \n",
    "          'verbose': 0, \n",
    "          'learning_rate': 0.01, \n",
    "          'bagging_fraction': 0.8,\n",
    "          'bagging_freq': 5,\n",
    "          'feature_fraction': 0.9,\n",
    "          'lambda_l1': 0.006, \n",
    "          'num_leaves': 70\n",
    "#           'early_stopping_round': 30\n",
    "}"
   ]
  },
  {
   "cell_type": "code",
   "execution_count": 26,
   "metadata": {},
   "outputs": [
    {
     "name": "stdout",
     "output_type": "stream",
     "text": [
      "[30]\tvalid_set's auc: 0.952907\tvalid_set's atec_metric: 0.456629\n",
      "[60]\tvalid_set's auc: 0.959381\tvalid_set's atec_metric: 0.463488\n",
      "[90]\tvalid_set's auc: 0.964059\tvalid_set's atec_metric: 0.467638\n",
      "[120]\tvalid_set's auc: 0.967764\tvalid_set's atec_metric: 0.478109\n",
      "[150]\tvalid_set's auc: 0.969953\tvalid_set's atec_metric: 0.485855\n",
      "[180]\tvalid_set's auc: 0.971357\tvalid_set's atec_metric: 0.487819\n",
      "[210]\tvalid_set's auc: 0.972258\tvalid_set's atec_metric: 0.48972\n",
      "[240]\tvalid_set's auc: 0.973583\tvalid_set's atec_metric: 0.492381\n",
      "[270]\tvalid_set's auc: 0.974806\tvalid_set's atec_metric: 0.495137\n",
      "[300]\tvalid_set's auc: 0.975532\tvalid_set's atec_metric: 0.495882\n",
      "[330]\tvalid_set's auc: 0.97605\tvalid_set's atec_metric: 0.498115\n",
      "[360]\tvalid_set's auc: 0.976426\tvalid_set's atec_metric: 0.499034\n",
      "[390]\tvalid_set's auc: 0.976991\tvalid_set's atec_metric: 0.502043\n",
      "[420]\tvalid_set's auc: 0.97774\tvalid_set's atec_metric: 0.501964\n",
      "[450]\tvalid_set's auc: 0.97837\tvalid_set's atec_metric: 0.50282\n",
      "[480]\tvalid_set's auc: 0.978788\tvalid_set's atec_metric: 0.502899\n",
      "[510]\tvalid_set's auc: 0.979086\tvalid_set's atec_metric: 0.502994\n",
      "[540]\tvalid_set's auc: 0.979701\tvalid_set's atec_metric: 0.504419\n",
      "[570]\tvalid_set's auc: 0.980427\tvalid_set's atec_metric: 0.505196\n",
      "[600]\tvalid_set's auc: 0.98104\tvalid_set's atec_metric: 0.504324\n",
      "[630]\tvalid_set's auc: 0.981429\tvalid_set's atec_metric: 0.505132\n",
      "[660]\tvalid_set's auc: 0.981768\tvalid_set's atec_metric: 0.504879\n",
      "[690]\tvalid_set's auc: 0.981954\tvalid_set's atec_metric: 0.505528\n",
      "[720]\tvalid_set's auc: 0.982064\tvalid_set's atec_metric: 0.504625\n",
      "[750]\tvalid_set's auc: 0.982368\tvalid_set's atec_metric: 0.504546\n",
      "[780]\tvalid_set's auc: 0.982469\tvalid_set's atec_metric: 0.503659\n",
      "[810]\tvalid_set's auc: 0.982783\tvalid_set's atec_metric: 0.504879\n",
      "[840]\tvalid_set's auc: 0.983067\tvalid_set's atec_metric: 0.505164\n",
      "[870]\tvalid_set's auc: 0.983304\tvalid_set's atec_metric: 0.504911\n",
      "[900]\tvalid_set's auc: 0.983334\tvalid_set's atec_metric: 0.505718\n",
      "[930]\tvalid_set's auc: 0.983325\tvalid_set's atec_metric: 0.504625\n",
      "[960]\tvalid_set's auc: 0.983406\tvalid_set's atec_metric: 0.504293\n",
      "[990]\tvalid_set's auc: 0.983563\tvalid_set's atec_metric: 0.503627\n",
      "[1020]\tvalid_set's auc: 0.983521\tvalid_set's atec_metric: 0.502503\n",
      "[1050]\tvalid_set's auc: 0.983605\tvalid_set's atec_metric: 0.501552\n",
      "[1080]\tvalid_set's auc: 0.983682\tvalid_set's atec_metric: 0.501109\n",
      "[1110]\tvalid_set's auc: 0.983748\tvalid_set's atec_metric: 0.502376\n",
      "[1140]\tvalid_set's auc: 0.983701\tvalid_set's atec_metric: 0.500792\n",
      "[1170]\tvalid_set's auc: 0.983769\tvalid_set's atec_metric: 0.501663\n",
      "[1200]\tvalid_set's auc: 0.983744\tvalid_set's atec_metric: 0.501441\n",
      "[1230]\tvalid_set's auc: 0.983772\tvalid_set's atec_metric: 0.50141\n",
      "[1260]\tvalid_set's auc: 0.983855\tvalid_set's atec_metric: 0.50122\n",
      "[1290]\tvalid_set's auc: 0.983697\tvalid_set's atec_metric: 0.501331\n",
      "[1320]\tvalid_set's auc: 0.983783\tvalid_set's atec_metric: 0.500649\n",
      "[1350]\tvalid_set's auc: 0.983758\tvalid_set's atec_metric: 0.499382\n",
      "[1380]\tvalid_set's auc: 0.983706\tvalid_set's atec_metric: 0.498669\n",
      "[1410]\tvalid_set's auc: 0.98367\tvalid_set's atec_metric: 0.498289\n",
      "[1440]\tvalid_set's auc: 0.98366\tvalid_set's atec_metric: 0.498875\n",
      "[1470]\tvalid_set's auc: 0.98373\tvalid_set's atec_metric: 0.498606\n",
      "[1500]\tvalid_set's auc: 0.983658\tvalid_set's atec_metric: 0.498416\n",
      "[1530]\tvalid_set's auc: 0.98369\tvalid_set's atec_metric: 0.498432\n",
      "[1560]\tvalid_set's auc: 0.983652\tvalid_set's atec_metric: 0.497275\n",
      "[1590]\tvalid_set's auc: 0.983692\tvalid_set's atec_metric: 0.497814\n",
      "[1620]\tvalid_set's auc: 0.983775\tvalid_set's atec_metric: 0.497418\n",
      "[1650]\tvalid_set's auc: 0.983791\tvalid_set's atec_metric: 0.496515\n",
      "[1680]\tvalid_set's auc: 0.983784\tvalid_set's atec_metric: 0.496578\n",
      "[1710]\tvalid_set's auc: 0.983807\tvalid_set's atec_metric: 0.498194\n",
      "[1740]\tvalid_set's auc: 0.983772\tvalid_set's atec_metric: 0.49878\n",
      "[1770]\tvalid_set's auc: 0.983832\tvalid_set's atec_metric: 0.498955\n",
      "[1800]\tvalid_set's auc: 0.983863\tvalid_set's atec_metric: 0.499145\n",
      "[1830]\tvalid_set's auc: 0.983785\tvalid_set's atec_metric: 0.499034\n",
      "[1860]\tvalid_set's auc: 0.983816\tvalid_set's atec_metric: 0.497846\n",
      "[1890]\tvalid_set's auc: 0.983762\tvalid_set's atec_metric: 0.497846\n"
     ]
    },
    {
     "ename": "KeyboardInterrupt",
     "evalue": "",
     "output_type": "error",
     "traceback": [
      "\u001b[1;31m---------------------------------------------------------------------------\u001b[0m",
      "\u001b[1;31mKeyboardInterrupt\u001b[0m                         Traceback (most recent call last)",
      "\u001b[1;32m<ipython-input-26-63751a6e8989>\u001b[0m in \u001b[0;36m<module>\u001b[1;34m()\u001b[0m\n\u001b[1;32m----> 1\u001b[1;33m \u001b[0mgbm\u001b[0m\u001b[1;33m=\u001b[0m\u001b[0mlgb\u001b[0m\u001b[1;33m.\u001b[0m\u001b[0mtrain\u001b[0m\u001b[1;33m(\u001b[0m\u001b[0mparams\u001b[0m\u001b[1;33m,\u001b[0m \u001b[0mlgb_train\u001b[0m\u001b[1;33m,\u001b[0m \u001b[0mnum_boost_round\u001b[0m\u001b[1;33m=\u001b[0m\u001b[1;36m3000\u001b[0m\u001b[1;33m,\u001b[0m \u001b[0mvalid_sets\u001b[0m\u001b[1;33m=\u001b[0m\u001b[0mlgb_valid\u001b[0m\u001b[1;33m,\u001b[0m \u001b[0mvalid_names\u001b[0m\u001b[1;33m=\u001b[0m\u001b[1;34m'valid_set'\u001b[0m\u001b[1;33m,\u001b[0m \u001b[0mfeval\u001b[0m\u001b[1;33m=\u001b[0m\u001b[0matec_metric\u001b[0m\u001b[1;33m,\u001b[0m \u001b[0mverbose_eval\u001b[0m\u001b[1;33m=\u001b[0m\u001b[1;36m30\u001b[0m\u001b[1;33m)\u001b[0m\u001b[1;33m\u001b[0m\u001b[0m\n\u001b[0m",
      "\u001b[1;32mD:\\anaconda\\lib\\site-packages\\lightgbm\\engine.py\u001b[0m in \u001b[0;36mtrain\u001b[1;34m(params, train_set, num_boost_round, valid_sets, valid_names, fobj, feval, init_model, feature_name, categorical_feature, early_stopping_rounds, evals_result, verbose_eval, learning_rates, keep_training_booster, callbacks)\u001b[0m\n\u001b[0;32m    199\u001b[0m                                     evaluation_result_list=None))\n\u001b[0;32m    200\u001b[0m \u001b[1;33m\u001b[0m\u001b[0m\n\u001b[1;32m--> 201\u001b[1;33m         \u001b[0mbooster\u001b[0m\u001b[1;33m.\u001b[0m\u001b[0mupdate\u001b[0m\u001b[1;33m(\u001b[0m\u001b[0mfobj\u001b[0m\u001b[1;33m=\u001b[0m\u001b[0mfobj\u001b[0m\u001b[1;33m)\u001b[0m\u001b[1;33m\u001b[0m\u001b[0m\n\u001b[0m\u001b[0;32m    202\u001b[0m \u001b[1;33m\u001b[0m\u001b[0m\n\u001b[0;32m    203\u001b[0m         \u001b[0mevaluation_result_list\u001b[0m \u001b[1;33m=\u001b[0m \u001b[1;33m[\u001b[0m\u001b[1;33m]\u001b[0m\u001b[1;33m\u001b[0m\u001b[0m\n",
      "\u001b[1;32mD:\\anaconda\\lib\\site-packages\\lightgbm\\basic.py\u001b[0m in \u001b[0;36mupdate\u001b[1;34m(self, train_set, fobj)\u001b[0m\n\u001b[0;32m   1522\u001b[0m             _safe_call(_LIB.LGBM_BoosterUpdateOneIter(\n\u001b[0;32m   1523\u001b[0m                 \u001b[0mself\u001b[0m\u001b[1;33m.\u001b[0m\u001b[0mhandle\u001b[0m\u001b[1;33m,\u001b[0m\u001b[1;33m\u001b[0m\u001b[0m\n\u001b[1;32m-> 1524\u001b[1;33m                 ctypes.byref(is_finished)))\n\u001b[0m\u001b[0;32m   1525\u001b[0m             \u001b[0mself\u001b[0m\u001b[1;33m.\u001b[0m\u001b[0m__is_predicted_cur_iter\u001b[0m \u001b[1;33m=\u001b[0m \u001b[1;33m[\u001b[0m\u001b[1;32mFalse\u001b[0m \u001b[1;32mfor\u001b[0m \u001b[0m_\u001b[0m \u001b[1;32min\u001b[0m \u001b[0mrange_\u001b[0m\u001b[1;33m(\u001b[0m\u001b[0mself\u001b[0m\u001b[1;33m.\u001b[0m\u001b[0m__num_dataset\u001b[0m\u001b[1;33m)\u001b[0m\u001b[1;33m]\u001b[0m\u001b[1;33m\u001b[0m\u001b[0m\n\u001b[0;32m   1526\u001b[0m             \u001b[1;32mreturn\u001b[0m \u001b[0mis_finished\u001b[0m\u001b[1;33m.\u001b[0m\u001b[0mvalue\u001b[0m \u001b[1;33m==\u001b[0m \u001b[1;36m1\u001b[0m\u001b[1;33m\u001b[0m\u001b[0m\n",
      "\u001b[1;31mKeyboardInterrupt\u001b[0m: "
     ]
    }
   ],
   "source": [
    "gbm=lgb.train(params, lgb_train, num_boost_round=3000, valid_sets=lgb_valid, valid_names='valid_set', feval=atec_metric, verbose_eval=30)"
   ]
  },
  {
   "cell_type": "code",
   "execution_count": 6,
   "metadata": {},
   "outputs": [],
   "source": [
    "df_test = pd.read_csv(\"E:\\\\leonhardt\\\\mayi\\\\data\\\\test_a.csv\")\n",
    "df_test = df_test.fillna(0)\n",
    "df_test.drop([\"date\",\"id\"],axis=1, inplace=True)"
   ]
  },
  {
   "cell_type": "code",
   "execution_count": 7,
   "metadata": {},
   "outputs": [],
   "source": [
    "y_pred = gbm.predict(df_test)"
   ]
  },
  {
   "cell_type": "code",
   "execution_count": 9,
   "metadata": {},
   "outputs": [
    {
     "data": {
      "text/plain": [
       "0.0014065366055244087"
      ]
     },
     "execution_count": 9,
     "metadata": {},
     "output_type": "execute_result"
    }
   ],
   "source": [
    "y_pred.min()"
   ]
  },
  {
   "cell_type": "code",
   "execution_count": 11,
   "metadata": {},
   "outputs": [
    {
     "data": {
      "text/plain": [
       "0.900688296638455"
      ]
     },
     "execution_count": 11,
     "metadata": {},
     "output_type": "execute_result"
    }
   ],
   "source": [
    "y_pred.max()"
   ]
  },
  {
   "cell_type": "code",
   "execution_count": 12,
   "metadata": {},
   "outputs": [],
   "source": [
    "np.savetxt(\"E:\\\\leonhardt\\\\mayi\\\\mayi\\\\ipython\\\\prediction/lgb_half_fill0_600.txt\", y_pred, delimiter=\",\")"
   ]
  },
  {
   "cell_type": "code",
   "execution_count": 13,
   "metadata": {},
   "outputs": [],
   "source": [
    "import xgboost as xgb"
   ]
  },
  {
   "cell_type": "code",
   "execution_count": 14,
   "metadata": {},
   "outputs": [],
   "source": [
    "xgb_train = xgb.DMatrix(train_set, label=train_label)\n",
    "xgb_vaild = xgb.DMatrix(eva_set, label=eva_label)"
   ]
  },
  {
   "cell_type": "code",
   "execution_count": 31,
   "metadata": {},
   "outputs": [],
   "source": [
    "def atec_metric(preds, train_data):\n",
    "    labels = train_data.get_label()\n",
    "    fpr,tpr,threshhold=roc_curve(labels, preds)\n",
    "    return 'atec_metric', 0.4*tpr[fpr<=0.001][-1] + 0.3*tpr[fpr<=0.005][-1] + 0.3*tpr[fpr<=0.01][-1]"
   ]
  },
  {
   "cell_type": "code",
   "execution_count": 32,
   "metadata": {},
   "outputs": [
    {
     "name": "stdout",
     "output_type": "stream",
     "text": [
      "[0]\ttrain-auc:0.958632\tval-auc:0.955429\ttrain-atec_metric:0.534378\tval-atec_metric:0.365262\n",
      "[30]\ttrain-auc:0.982733\tval-auc:0.968775\ttrain-atec_metric:0.678654\tval-atec_metric:0.486266\n",
      "[60]\ttrain-auc:0.983481\tval-auc:0.966919\ttrain-atec_metric:0.687726\tval-atec_metric:0.484033\n",
      "[90]\ttrain-auc:0.98463\tval-auc:0.968104\ttrain-atec_metric:0.69308\tval-atec_metric:0.489165\n",
      "[120]\ttrain-auc:0.985518\tval-auc:0.968407\ttrain-atec_metric:0.704011\tval-atec_metric:0.491399\n",
      "[150]\ttrain-auc:0.986338\tval-auc:0.96914\ttrain-atec_metric:0.714237\tval-atec_metric:0.494297\n",
      "[180]\ttrain-auc:0.987087\tval-auc:0.970784\ttrain-atec_metric:0.721725\tval-atec_metric:0.495185\n",
      "[210]\ttrain-auc:0.987571\tval-auc:0.97161\ttrain-atec_metric:0.730745\tval-atec_metric:0.498796\n",
      "[240]\ttrain-auc:0.988087\tval-auc:0.972684\ttrain-atec_metric:0.737545\tval-atec_metric:0.500143\n",
      "[270]\ttrain-auc:0.988593\tval-auc:0.973388\ttrain-atec_metric:0.745481\tval-atec_metric:0.500935\n",
      "[300]\ttrain-auc:0.989199\tval-auc:0.974243\ttrain-atec_metric:0.753538\tval-atec_metric:0.504103\n",
      "[330]\ttrain-auc:0.989796\tval-auc:0.973381\ttrain-atec_metric:0.760871\tval-atec_metric:0.505148\n",
      "[360]\ttrain-auc:0.990304\tval-auc:0.974079\ttrain-atec_metric:0.767464\tval-atec_metric:0.506019\n",
      "[390]\ttrain-auc:0.990804\tval-auc:0.974383\ttrain-atec_metric:0.774763\tval-atec_metric:0.505069\n",
      "[420]\ttrain-auc:0.991354\tval-auc:0.974913\ttrain-atec_metric:0.780014\tval-atec_metric:0.505148\n",
      "[450]\ttrain-auc:0.991775\tval-auc:0.976031\ttrain-atec_metric:0.787072\tval-atec_metric:0.505988\n",
      "[480]\ttrain-auc:0.992187\tval-auc:0.976505\ttrain-atec_metric:0.794199\tval-atec_metric:0.506986\n",
      "[510]\ttrain-auc:0.992563\tval-auc:0.977252\ttrain-atec_metric:0.799363\tval-atec_metric:0.507588\n",
      "[540]\ttrain-auc:0.992853\tval-auc:0.977729\ttrain-atec_metric:0.805595\tval-atec_metric:0.509314\n",
      "[570]\ttrain-auc:0.993166\tval-auc:0.978121\ttrain-atec_metric:0.810432\tval-atec_metric:0.508776\n",
      "[600]\ttrain-auc:0.993508\tval-auc:0.978405\ttrain-atec_metric:0.815786\tval-atec_metric:0.509979\n",
      "[630]\ttrain-auc:0.993907\tval-auc:0.978445\ttrain-atec_metric:0.821295\tval-atec_metric:0.510154\n",
      "[660]\ttrain-auc:0.994291\tval-auc:0.978455\ttrain-atec_metric:0.827027\tval-atec_metric:0.51207\n",
      "[690]\ttrain-auc:0.994619\tval-auc:0.978348\ttrain-atec_metric:0.832346\tval-atec_metric:0.511674\n",
      "[720]\ttrain-auc:0.994885\tval-auc:0.978466\ttrain-atec_metric:0.836753\tval-atec_metric:0.512245\n",
      "[750]\ttrain-auc:0.995204\tval-auc:0.97847\ttrain-atec_metric:0.841246\tval-atec_metric:0.514019\n",
      "[780]\ttrain-auc:0.995672\tval-auc:0.978645\ttrain-atec_metric:0.845722\tval-atec_metric:0.514193\n",
      "[810]\ttrain-auc:0.995955\tval-auc:0.97912\ttrain-atec_metric:0.849148\tval-atec_metric:0.514288\n",
      "[840]\ttrain-auc:0.996229\tval-auc:0.97957\ttrain-atec_metric:0.851678\tval-atec_metric:0.51367\n",
      "[870]\ttrain-auc:0.996472\tval-auc:0.980064\ttrain-atec_metric:0.85655\tval-atec_metric:0.513258\n",
      "[900]\ttrain-auc:0.996697\tval-auc:0.980409\ttrain-atec_metric:0.859838\tval-atec_metric:0.514003\n",
      "[930]\ttrain-auc:0.996902\tval-auc:0.980804\ttrain-atec_metric:0.863109\tval-atec_metric:0.513844\n",
      "[960]\ttrain-auc:0.997071\tval-auc:0.98118\ttrain-atec_metric:0.866707\tval-atec_metric:0.513163\n",
      "[990]\ttrain-auc:0.997232\tval-auc:0.981438\ttrain-atec_metric:0.869237\tval-atec_metric:0.514415\n",
      "[999]\ttrain-auc:0.997275\tval-auc:0.981576\ttrain-atec_metric:0.869995\tval-atec_metric:0.513607\n"
     ]
    }
   ],
   "source": [
    "params={\n",
    "'booster':'gbtree',\n",
    "'objective': 'binary:logistic', #单分类的问题\n",
    "'gamma':0.1,  # 用于控制是否后剪枝的参数,越大越保守，一般0.1、0.2这样子。\n",
    "'max_depth':12, # 构建树的深度，越大越容易过拟合\n",
    "'lambda':2,  # 控制模型复杂度的权重值的L2正则化项参数，参数越大，模型越不容易过拟合。\n",
    "'subsample':0.7, # 随机采样训练样本\n",
    "'colsample_bytree':0.7, # 生成树时进行的列采样\n",
    "'min_child_weight':3, \n",
    "# 这个参数默认是 1，是每个叶子里面 h 的和至少是多少，对正负样本不均衡时的 0-1 分类而言\n",
    "#，假设 h 在 0.01 附近，min_child_weight 为 1 意味着叶子节点中最少需要包含 100 个样本。\n",
    "#这个参数非常影响结果，控制叶子节点中二阶导的和的最小值，该参数值越小，越容易 overfitting。 \n",
    "'silent':0 ,#设置成1则没有运行信息输出，最好是设置为0.\n",
    "'eta': 0.007, # 如同学习率\n",
    "'seed':10,\n",
    "'nthread':7,# cpu 线程数\n",
    "'eval_metric': 'auc',\n",
    "'n_jobs': -1\n",
    "}\n",
    "plst = list(params.items())\n",
    "num_rounds = 1000 # 迭代次数\n",
    "watchlist = [(xgb_train, 'train'),(xgb_vaild, 'val')]\n",
    "\n",
    "#训练模型并保存\n",
    "# early_stopping_rounds 当设置的迭代次数较大时，early_stopping_rounds 可在一定的迭代次数内准确率没有提升就停止训练\n",
    "model = xgb.train(plst, xgb_train, num_rounds, watchlist, feval = atec_metric,verbose_eval=30)"
   ]
  },
  {
   "cell_type": "code",
   "execution_count": 34,
   "metadata": {},
   "outputs": [],
   "source": [
    "xgb_test = xgb.DMatrix(df_test)\n",
    "y_preds_xgb = model.predict(xgb_test)"
   ]
  },
  {
   "cell_type": "code",
   "execution_count": 37,
   "metadata": {},
   "outputs": [
    {
     "data": {
      "text/plain": [
       "0.0005163161"
      ]
     },
     "execution_count": 37,
     "metadata": {},
     "output_type": "execute_result"
    }
   ],
   "source": [
    "y_preds_xgb.min()"
   ]
  },
  {
   "cell_type": "code",
   "execution_count": 39,
   "metadata": {},
   "outputs": [
    {
     "data": {
      "text/plain": [
       "0.91339743"
      ]
     },
     "execution_count": 39,
     "metadata": {},
     "output_type": "execute_result"
    }
   ],
   "source": [
    "y_preds_xgb.max()"
   ]
  },
  {
   "cell_type": "code",
   "execution_count": 40,
   "metadata": {},
   "outputs": [],
   "source": [
    "np.savetxt(\"E:\\\\leonhardt\\\\mayi\\\\mayi\\\\ipython\\\\prediction/xgb_fil0_1000.txt\", y_preds_xgb, delimiter=\",\")"
   ]
  },
  {
   "cell_type": "code",
   "execution_count": 41,
   "metadata": {},
   "outputs": [
    {
     "name": "stdout",
     "output_type": "stream",
     "text": [
      "[0]\ttrain-auc:0.958632\tval-auc:0.955429\ttrain-atec_metric:0.534378\tval-atec_metric:0.365262\n",
      "[30]\ttrain-auc:0.982733\tval-auc:0.968775\ttrain-atec_metric:0.678654\tval-atec_metric:0.486266\n",
      "[60]\ttrain-auc:0.983481\tval-auc:0.966919\ttrain-atec_metric:0.687726\tval-atec_metric:0.484033\n",
      "[90]\ttrain-auc:0.98463\tval-auc:0.968104\ttrain-atec_metric:0.69308\tval-atec_metric:0.489165\n",
      "[120]\ttrain-auc:0.985518\tval-auc:0.968407\ttrain-atec_metric:0.704011\tval-atec_metric:0.491399\n",
      "[150]\ttrain-auc:0.986338\tval-auc:0.96914\ttrain-atec_metric:0.714237\tval-atec_metric:0.494297\n",
      "[180]\ttrain-auc:0.987087\tval-auc:0.970784\ttrain-atec_metric:0.721725\tval-atec_metric:0.495185\n",
      "[210]\ttrain-auc:0.987571\tval-auc:0.97161\ttrain-atec_metric:0.730745\tval-atec_metric:0.498796\n",
      "[240]\ttrain-auc:0.988087\tval-auc:0.972684\ttrain-atec_metric:0.737545\tval-atec_metric:0.500143\n",
      "[270]\ttrain-auc:0.988593\tval-auc:0.973388\ttrain-atec_metric:0.745481\tval-atec_metric:0.500935\n",
      "[300]\ttrain-auc:0.989199\tval-auc:0.974243\ttrain-atec_metric:0.753538\tval-atec_metric:0.504103\n",
      "[329]\ttrain-auc:0.989797\tval-auc:0.973323\ttrain-atec_metric:0.760423\tval-atec_metric:0.505576\n"
     ]
    }
   ],
   "source": [
    "params={\n",
    "'booster':'gbtree',\n",
    "'objective': 'binary:logistic', #单分类的问题\n",
    "'gamma':0.1,  # 用于控制是否后剪枝的参数,越大越保守，一般0.1、0.2这样子。\n",
    "'max_depth':12, # 构建树的深度，越大越容易过拟合\n",
    "'lambda':2,  # 控制模型复杂度的权重值的L2正则化项参数，参数越大，模型越不容易过拟合。\n",
    "'subsample':0.7, # 随机采样训练样本\n",
    "'colsample_bytree':0.7, # 生成树时进行的列采样\n",
    "'min_child_weight':3, \n",
    "# 这个参数默认是 1，是每个叶子里面 h 的和至少是多少，对正负样本不均衡时的 0-1 分类而言\n",
    "#，假设 h 在 0.01 附近，min_child_weight 为 1 意味着叶子节点中最少需要包含 100 个样本。\n",
    "#这个参数非常影响结果，控制叶子节点中二阶导的和的最小值，该参数值越小，越容易 overfitting。 \n",
    "'silent':0 ,#设置成1则没有运行信息输出，最好是设置为0.\n",
    "'eta': 0.007, # 如同学习率\n",
    "'seed':10,\n",
    "'nthread':7,# cpu 线程数\n",
    "'eval_metric': 'auc',\n",
    "'n_jobs': -1\n",
    "}\n",
    "plst = list(params.items())\n",
    "num_rounds = 330 # 迭代次数\n",
    "watchlist = [(xgb_train, 'train'),(xgb_vaild, 'val')]\n",
    "\n",
    "#训练模型并保存\n",
    "# early_stopping_rounds 当设置的迭代次数较大时，early_stopping_rounds 可在一定的迭代次数内准确率没有提升就停止训练\n",
    "model = xgb.train(plst, xgb_train, num_rounds, watchlist, feval = atec_metric,verbose_eval=30)"
   ]
  },
  {
   "cell_type": "code",
   "execution_count": 42,
   "metadata": {},
   "outputs": [],
   "source": [
    "y_preds_xgb330 = model.predict(xgb_test)"
   ]
  },
  {
   "cell_type": "code",
   "execution_count": 45,
   "metadata": {},
   "outputs": [],
   "source": [
    "np.savetxt(\"E:\\\\leonhardt\\\\mayi\\\\mayi\\\\ipython\\\\prediction/xgb_fil0_330.txt\", y_preds_xgb330, delimiter=\",\")"
   ]
  },
  {
   "cell_type": "code",
   "execution_count": 47,
   "metadata": {},
   "outputs": [
    {
     "data": {
      "text/plain": [
       "0.049839422"
      ]
     },
     "execution_count": 47,
     "metadata": {},
     "output_type": "execute_result"
    }
   ],
   "source": [
    "y_preds_xgb330.min()"
   ]
  },
  {
   "cell_type": "code",
   "execution_count": 49,
   "metadata": {},
   "outputs": [
    {
     "data": {
      "text/plain": [
       "0.8352195"
      ]
     },
     "execution_count": 49,
     "metadata": {},
     "output_type": "execute_result"
    }
   ],
   "source": [
    "y_preds_xgb330.max()"
   ]
  },
  {
   "cell_type": "code",
   "execution_count": null,
   "metadata": {},
   "outputs": [],
   "source": []
  }
 ],
 "metadata": {
  "kernelspec": {
   "display_name": "Python 3",
   "language": "python",
   "name": "python3"
  },
  "language_info": {
   "codemirror_mode": {
    "name": "ipython",
    "version": 3
   },
   "file_extension": ".py",
   "mimetype": "text/x-python",
   "name": "python",
   "nbconvert_exporter": "python",
   "pygments_lexer": "ipython3",
   "version": "3.6.5"
  }
 },
 "nbformat": 4,
 "nbformat_minor": 2
}
