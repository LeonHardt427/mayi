{
 "cells": [
  {
   "cell_type": "code",
   "execution_count": 5,
   "metadata": {},
   "outputs": [],
   "source": [
    "import os\n",
    "import numpy as np \n",
    "import pandas as pd\n",
    "import matplotlib.pyplot as plt\n",
    "\n",
    "df_train = pd.read_csv(\"E:\\\\leonhardt\\\\mayi\\\\data\\\\train.csv\")"
   ]
  },
  {
   "cell_type": "code",
   "execution_count": 6,
   "metadata": {},
   "outputs": [
    {
     "name": "stderr",
     "output_type": "stream",
     "text": [
      "D:\\anaconda\\lib\\site-packages\\pandas\\core\\frame.py:3694: SettingWithCopyWarning: \n",
      "A value is trying to be set on a copy of a slice from a DataFrame\n",
      "\n",
      "See the caveats in the documentation: http://pandas.pydata.org/pandas-docs/stable/indexing.html#indexing-view-versus-copy\n",
      "  errors=errors)\n"
     ]
    }
   ],
   "source": [
    "df_train=df_train.loc[df_train['label']!=-1]\n",
    "df_train = df_train.fillna(0)\n",
    "train_set = df_train[df_train.loc[:, \"date\"]<=20171005]\n",
    "eva_set = df_train[df_train.loc[:, \"date\"]>20171005]\n",
    "train_label = train_set[\"label\"]\n",
    "eva_label = eva_set[\"label\"]\n",
    "train_set.drop([\"id\",\"date\", \"label\"], axis=1, inplace=True)\n",
    "eva_set.drop([\"id\",\"date\", \"label\"], axis=1, inplace=True)"
   ]
  },
  {
   "cell_type": "code",
   "execution_count": 7,
   "metadata": {},
   "outputs": [],
   "source": [
    "from sklearn.metrics import roc_curve\n",
    "def atec_metric(preds, labels):\n",
    "    fpr,tpr,threshhold=roc_curve(labels, preds)\n",
    "    return 'atec_metric', 0.4*tpr[fpr<=0.001][-1] + 0.3*tpr[fpr<=0.005][-1] + 0.3*tpr[fpr<=0.01][-1], True"
   ]
  },
  {
   "cell_type": "code",
   "execution_count": 13,
   "metadata": {},
   "outputs": [
    {
     "name": "stdout",
     "output_type": "stream",
     "text": [
      "660 is the score of ('atec_metric', 0.3389196895295422, True)\n"
     ]
    }
   ],
   "source": [
    "from sklearn.ensemble import ExtraTreesClassifier\n",
    "# for num in range(10, 800, 50):\n",
    "ext = ExtraTreesClassifier(n_estimators=660, max_depth=5)\n",
    "ext.fit(train_set, train_label)\n",
    "eva_prob = ext.predict_proba(eva_set)\n",
    "eva_score = atec_metric(eva_prob[:, 1], eva_label)\n",
    "print(\"{0} is the score of {1}\".format(660, eva_score))"
   ]
  },
  {
   "cell_type": "code",
   "execution_count": 14,
   "metadata": {},
   "outputs": [],
   "source": [
    "df_test = pd.read_csv(\"E:\\\\leonhardt\\\\mayi\\\\data\\\\test_a.csv\")\n",
    "df_test.drop([\"date\",\"id\"],axis=1, inplace=True)\n",
    "df_test = df_test.fillna(0)"
   ]
  },
  {
   "cell_type": "code",
   "execution_count": 15,
   "metadata": {},
   "outputs": [],
   "source": [
    "y_pred_ext = ext.predict_proba(df_test)"
   ]
  },
  {
   "cell_type": "code",
   "execution_count": 18,
   "metadata": {},
   "outputs": [
    {
     "data": {
      "text/plain": [
       "0.003924932985563187"
      ]
     },
     "execution_count": 18,
     "metadata": {},
     "output_type": "execute_result"
    }
   ],
   "source": [
    "y_pred_ext.min()"
   ]
  },
  {
   "cell_type": "code",
   "execution_count": 19,
   "metadata": {},
   "outputs": [],
   "source": [
    "np.savetxt(os.getcwd()+\"/prediction/ext_half_fil0_660.txt\", y_pred_ext, delimiter=',')"
   ]
  },
  {
   "cell_type": "code",
   "execution_count": null,
   "metadata": {},
   "outputs": [],
   "source": [
    "# df_eval = pd.Series(index=range(10, 380, 30))\n",
    "# for num in range(10, 380, 30):\n",
    "gbdt = GradientBoostingClassifier(  \n",
    "    init=None,  \n",
    "    learning_rate=0.05,  \n",
    "    loss='deviance',\n",
    "    max_depth=5,  \n",
    "    max_features=None,  \n",
    "    max_leaf_nodes=None,  \n",
    "    min_samples_leaf=1,  \n",
    "    min_samples_split=2,  \n",
    "    min_weight_fraction_leaf=0.0,  \n",
    "    n_estimators=160,  \n",
    "    random_state=None,  \n",
    "    subsample=1.0,  \n",
    "    verbose=0,  \n",
    "    warm_start=False)  \n",
    "gbdt.fit(train_set, train_label)\n",
    "eva_prob = gbdt.predict_proba(eva_set)\n",
    "eva_score = atec_metric(eva_prob[:, 1], eva_label)\n",
    "print(\"{0} score is {1}\".format(160, eva_score))"
   ]
  }
 ],
 "metadata": {
  "kernelspec": {
   "display_name": "Python 3",
   "language": "python",
   "name": "python3"
  },
  "language_info": {
   "codemirror_mode": {
    "name": "ipython",
    "version": 3
   },
   "file_extension": ".py",
   "mimetype": "text/x-python",
   "name": "python",
   "nbconvert_exporter": "python",
   "pygments_lexer": "ipython3",
   "version": "3.6.5"
  }
 },
 "nbformat": 4,
 "nbformat_minor": 2
}
