{
 "cells": [
  {
   "cell_type": "code",
   "execution_count": 5,
   "metadata": {},
   "outputs": [],
   "source": [
    "import os\n",
    "import numpy as np \n",
    "import pandas as pd\n",
    "import matplotlib.pyplot as plt\n",
    "\n",
    "df_train = pd.read_csv(\"E:\\\\leonhardt\\\\mayi\\\\data\\\\train.csv\")"
   ]
  },
  {
   "cell_type": "code",
   "execution_count": 6,
   "metadata": {},
   "outputs": [
    {
     "name": "stderr",
     "output_type": "stream",
     "text": [
      "D:\\anaconda\\lib\\site-packages\\pandas\\core\\frame.py:3694: SettingWithCopyWarning: \n",
      "A value is trying to be set on a copy of a slice from a DataFrame\n",
      "\n",
      "See the caveats in the documentation: http://pandas.pydata.org/pandas-docs/stable/indexing.html#indexing-view-versus-copy\n",
      "  errors=errors)\n"
     ]
    }
   ],
   "source": [
    "df_train=df_train.loc[df_train['label']!=-1]\n",
    "df_train = df_train.fillna(0)\n",
    "train_set = df_train[df_train.loc[:, \"date\"]<=20171005]\n",
    "eva_set = df_train[df_train.loc[:, \"date\"]>20171005]\n",
    "train_label = train_set[\"label\"]\n",
    "eva_label = eva_set[\"label\"]\n",
    "train_set.drop([\"id\",\"date\", \"label\"], axis=1, inplace=True)\n",
    "eva_set.drop([\"id\",\"date\", \"label\"], axis=1, inplace=True)"
   ]
  },
  {
   "cell_type": "code",
   "execution_count": 25,
   "metadata": {},
   "outputs": [],
   "source": [
    "from sklearn.metrics import roc_curve\n",
    "def atec_metric(preds, labels):\n",
    "    fpr,tpr,threshhold=roc_curve(labels, preds)\n",
    "    return 'atec_metric', 0.4*tpr[fpr<=0.001][-1] + 0.3*tpr[fpr<=0.005][-1] + 0.3*tpr[fpr<=0.01][-1], True"
   ]
  },
  {
   "cell_type": "code",
   "execution_count": 13,
   "metadata": {},
   "outputs": [
    {
     "name": "stdout",
     "output_type": "stream",
     "text": [
      "660 is the score of ('atec_metric', 0.3389196895295422, True)\n"
     ]
    }
   ],
   "source": [
    "from sklearn.ensemble import ExtraTreesClassifier\n",
    "# for num in range(10, 800, 50):\n",
    "ext = ExtraTreesClassifier(n_estimators=660, max_depth=5)\n",
    "ext.fit(train_set, train_label)\n",
    "eva_prob = ext.predict_proba(eva_set)\n",
    "eva_score = atec_metric(eva_prob[:, 1], eva_label)\n",
    "print(\"{0} is the score of {1}\".format(660, eva_score))"
   ]
  },
  {
   "cell_type": "code",
   "execution_count": 14,
   "metadata": {},
   "outputs": [],
   "source": [
    "df_test = pd.read_csv(\"E:\\\\leonhardt\\\\mayi\\\\data\\\\test_a.csv\")\n",
    "df_test.drop([\"date\",\"id\"],axis=1, inplace=True)\n",
    "df_test = df_test.fillna(0)"
   ]
  },
  {
   "cell_type": "code",
   "execution_count": 15,
   "metadata": {},
   "outputs": [],
   "source": [
    "y_pred_ext = ext.predict_proba(df_test)"
   ]
  },
  {
   "cell_type": "code",
   "execution_count": 18,
   "metadata": {},
   "outputs": [
    {
     "data": {
      "text/plain": [
       "0.003924932985563187"
      ]
     },
     "execution_count": 18,
     "metadata": {},
     "output_type": "execute_result"
    }
   ],
   "source": [
    "y_pred_ext.min()"
   ]
  },
  {
   "cell_type": "code",
   "execution_count": 19,
   "metadata": {},
   "outputs": [],
   "source": [
    "np.savetxt(os.getcwd()+\"/prediction/ext_half_fil0_660.txt\", y_pred_ext, delimiter=',')"
   ]
  },
  {
   "cell_type": "code",
   "execution_count": 21,
   "metadata": {},
   "outputs": [],
   "source": [
    "from sklearn.metrics import roc_auc_score,roc_curve\n",
    "def atec_metric(preds, train_data):\n",
    "    labels = train_data.get_label()\n",
    "    fpr,tpr,threshhold=roc_curve(labels, preds)\n",
    "    return 'atec_metric', 0.4*tpr[fpr<=0.001][-1] + 0.3*tpr[fpr<=0.005][-1] + 0.3*tpr[fpr<=0.01][-1], True"
   ]
  },
  {
   "cell_type": "code",
   "execution_count": 20,
   "metadata": {},
   "outputs": [],
   "source": [
    "from catboost import CatBoostClassifier"
   ]
  },
  {
   "cell_type": "code",
   "execution_count": 29,
   "metadata": {},
   "outputs": [
    {
     "name": "stdout",
     "output_type": "stream",
     "text": [
      "0:\tlearn: 0.9302011\ttest: 0.9249902\tbest: 0.9249902 (0)\ttotal: 708ms\tremaining: 3m 3s\n",
      "100:\tlearn: 0.9816972\ttest: 0.9726016\tbest: 0.9726016 (100)\ttotal: 1m 10s\tremaining: 1m 50s\n",
      "200:\tlearn: 0.9868201\ttest: 0.9771307\tbest: 0.9771405 (198)\ttotal: 2m 21s\tremaining: 41.5s\n",
      "\n",
      "bestTest = 0.978507484\n",
      "bestIteration = 258\n",
      "\n",
      "Shrink model to first 259 iterations.\n"
     ]
    },
    {
     "data": {
      "text/plain": [
       "<catboost.core.CatBoostClassifier at 0x162358cf1d0>"
      ]
     },
     "execution_count": 29,
     "metadata": {},
     "output_type": "execute_result"
    }
   ],
   "source": [
    "# df_eval = pd.Series(index=range(10, 380, 30))\n",
    "# for num in range(10, 800, 50):\n",
    "cat = CatBoostClassifier(iterations=260, depth=8, learning_rate=0.05, logging_level='Verbose', use_best_model=True,\n",
    "                         eval_metric=\"AUC\")\n",
    "cat.fit(train_set, train_label, eval_set=[(eva_set, eva_label)], verbose=100)\n",
    "# eva_prob = cat.predict_proba(eva_set)\n",
    "# eva_score = atec_metric(eva_prob[:, 1], eva_label)\n",
    "# print(\"{0} score is {1}\".format(num, eva_score))\n",
    "# #     df_eval.loc[num, :] = eva_score"
   ]
  },
  {
   "cell_type": "code",
   "execution_count": 30,
   "metadata": {},
   "outputs": [],
   "source": [
    "y_pred3 = cat.predict_proba(df_test)"
   ]
  },
  {
   "cell_type": "code",
   "execution_count": 33,
   "metadata": {},
   "outputs": [],
   "source": [
    "np.savetxt(os.getcwd()+\"/prediction/cat_half_fil0_260.txt\", y_pred3[:,1], delimiter=',')"
   ]
  },
  {
   "cell_type": "code",
   "execution_count": 34,
   "metadata": {},
   "outputs": [],
   "source": [
    "eva_prob = cat.predict_proba(eva_set)\n",
    "eva_score = atec_metric(eva_prob[:, 1], eva_label)"
   ]
  },
  {
   "cell_type": "code",
   "execution_count": 35,
   "metadata": {},
   "outputs": [
    {
     "data": {
      "text/plain": [
       "('atec_metric', 0.49809916046253755, True)"
      ]
     },
     "execution_count": 35,
     "metadata": {},
     "output_type": "execute_result"
    }
   ],
   "source": [
    "eva_score"
   ]
  },
  {
   "cell_type": "code",
   "execution_count": null,
   "metadata": {},
   "outputs": [],
   "source": []
  }
 ],
 "metadata": {
  "kernelspec": {
   "display_name": "Python 3",
   "language": "python",
   "name": "python3"
  },
  "language_info": {
   "codemirror_mode": {
    "name": "ipython",
    "version": 3
   },
   "file_extension": ".py",
   "mimetype": "text/x-python",
   "name": "python",
   "nbconvert_exporter": "python",
   "pygments_lexer": "ipython3",
   "version": "3.6.5"
  }
 },
 "nbformat": 4,
 "nbformat_minor": 2
}
