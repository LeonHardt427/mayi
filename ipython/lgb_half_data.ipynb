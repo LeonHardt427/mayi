{
 "cells": [
  {
   "cell_type": "code",
   "execution_count": 1,
   "metadata": {},
   "outputs": [],
   "source": [
    "import os\n",
    "import numpy as np \n",
    "import pandas as pd\n",
    "import matplotlib.pyplot as plt\n",
    "\n",
    "df_train = pd.read_csv(\"E:\\\\leonhardt\\\\mayi\\\\data\\\\train.csv\")\n",
    "df_test = pd.read_csv(\"E:\\\\leonhardt\\\\mayi\\\\data\\\\test_a.csv\")"
   ]
  },
  {
   "cell_type": "code",
   "execution_count": 2,
   "metadata": {},
   "outputs": [],
   "source": [
    "df_train = df_train[df_train[\"label\"]!=-1]"
   ]
  },
  {
   "cell_type": "code",
   "execution_count": 3,
   "metadata": {},
   "outputs": [],
   "source": [
    "train_set = df_train[df_train[\"date\"]<=20171005]\n",
    "eva_set = df_train[df_train[\"date\"]>20171005]"
   ]
  },
  {
   "cell_type": "code",
   "execution_count": 4,
   "metadata": {},
   "outputs": [
    {
     "data": {
      "text/plain": [
       "483036"
      ]
     },
     "execution_count": 4,
     "metadata": {},
     "output_type": "execute_result"
    }
   ],
   "source": [
    "train_set[\"id\"].count()"
   ]
  },
  {
   "cell_type": "code",
   "execution_count": 5,
   "metadata": {},
   "outputs": [
    {
     "data": {
      "text/plain": [
       "506970"
      ]
     },
     "execution_count": 5,
     "metadata": {},
     "output_type": "execute_result"
    }
   ],
   "source": [
    "eva_set[\"id\"].count()"
   ]
  },
  {
   "cell_type": "code",
   "execution_count": 6,
   "metadata": {},
   "outputs": [],
   "source": [
    "train_label = train_set[\"label\"]\n",
    "eva_label = eva_set[\"label\"]"
   ]
  },
  {
   "cell_type": "code",
   "execution_count": 7,
   "metadata": {},
   "outputs": [
    {
     "name": "stderr",
     "output_type": "stream",
     "text": [
      "D:\\anaconda\\lib\\site-packages\\pandas\\core\\frame.py:3694: SettingWithCopyWarning: \n",
      "A value is trying to be set on a copy of a slice from a DataFrame\n",
      "\n",
      "See the caveats in the documentation: http://pandas.pydata.org/pandas-docs/stable/indexing.html#indexing-view-versus-copy\n",
      "  errors=errors)\n"
     ]
    }
   ],
   "source": [
    "train_set.drop([\"id\", \"label\", \"date\"], axis=1, inplace=True)\n"
   ]
  },
  {
   "cell_type": "code",
   "execution_count": 8,
   "metadata": {},
   "outputs": [
    {
     "name": "stderr",
     "output_type": "stream",
     "text": [
      "D:\\anaconda\\lib\\site-packages\\pandas\\core\\frame.py:3694: SettingWithCopyWarning: \n",
      "A value is trying to be set on a copy of a slice from a DataFrame\n",
      "\n",
      "See the caveats in the documentation: http://pandas.pydata.org/pandas-docs/stable/indexing.html#indexing-view-versus-copy\n",
      "  errors=errors)\n"
     ]
    }
   ],
   "source": [
    "eva_set.drop([\"id\", \"label\", \"date\"], axis=1, inplace=True)"
   ]
  },
  {
   "cell_type": "code",
   "execution_count": 9,
   "metadata": {},
   "outputs": [],
   "source": [
    "def atec_metric(preds, train_data):\n",
    "    labels = train_data.get_label()\n",
    "    fpr,tpr,threshhold=roc_curve(labels, preds)\n",
    "    return 'atec_metric', 0.4*tpr[fpr<=0.001][-1] + 0.3*tpr[fpr<=0.005][-1] + 0.3*tpr[fpr<=0.01][-1], True"
   ]
  },
  {
   "cell_type": "code",
   "execution_count": 11,
   "metadata": {},
   "outputs": [],
   "source": [
    "import lightgbm as lgb\n",
    "lgb_train=lgb.Dataset(train_set,train_label,free_raw_data=False)\n",
    "lgb_valid=lgb.Dataset(eva_set,eva_label,reference=lgb_train,free_raw_data=False)\n",
    "params = {'boosting_type': 'gbdt',\n",
    "          'objective': 'binary', \n",
    "          'metric': 'auc', \n",
    "          'device': 'cpu', \n",
    "          'verbose': 0, \n",
    "          'learning_rate': 0.01, \n",
    "          'bagging_fraction': 0.8,\n",
    "          'bagging_freq': 5,\n",
    "          'feature_fraction': 0.9,\n",
    "          'lambda_l1': 0.006, \n",
    "          'num_leaves': 58,\n",
    "          'early_stopping_round': 20\n",
    "}"
   ]
  },
  {
   "cell_type": "code",
   "execution_count": 13,
   "metadata": {},
   "outputs": [
    {
     "name": "stdout",
     "output_type": "stream",
     "text": [
      "[200]\tvalid_set's auc: 0.968521\tvalid_set's atec_metric: 0.495786\n",
      "[400]\tvalid_set's auc: 0.972823\tvalid_set's atec_metric: 0.512102\n",
      "[600]\tvalid_set's auc: 0.977813\tvalid_set's atec_metric: 0.517218\n",
      "[800]\tvalid_set's auc: 0.979676\tvalid_set's atec_metric: 0.512165\n",
      "[1000]\tvalid_set's auc: 0.980484\tvalid_set's atec_metric: 0.509979\n",
      "[1200]\tvalid_set's auc: 0.981082\tvalid_set's atec_metric: 0.508142\n",
      "[1400]\tvalid_set's auc: 0.981403\tvalid_set's atec_metric: 0.509156\n"
     ]
    }
   ],
   "source": [
    "from sklearn.metrics import roc_curve\n",
    "gbm=lgb.train(params, lgb_train, num_boost_round=1500, valid_sets=lgb_valid, valid_names='valid_set', feval=atec_metric, verbose_eval=200)"
   ]
  },
  {
   "cell_type": "code",
   "execution_count": 14,
   "metadata": {},
   "outputs": [
    {
     "data": {
      "text/plain": [
       "[<matplotlib.lines.Line2D at 0x25aca7654e0>]"
      ]
     },
     "execution_count": 14,
     "metadata": {},
     "output_type": "execute_result"
    },
    {
     "data": {
      "image/png": "[encoded data removed]",
      "text/plain": [
       "<Figure size 432x288 with 1 Axes>"
      ]
     },
     "metadata": {},
     "output_type": "display_data"
    }
   ],
   "source": [
    "from scipy import interp  \n",
    "from sklearn.metrics import auc\n",
    "mean_tpr = 0.0  \n",
    "mean_fpr = np.linspace(0, 1, 100)  \n",
    "all_tpr = []  \n",
    "\n",
    "fpr, tpr, thresholds = roc_curve(eva_label, gbm.predict(eva_set))  \n",
    "mean_tpr += interp(mean_fpr, fpr, tpr)          #对mean_tpr在mean_fpr处进行插值，通过scipy包调用interp()函数  \n",
    "mean_tpr[0] = 0.0                               #初始处为0  \n",
    "roc_auc = auc(fpr, tpr)  \n",
    "#画图，只需要plt.plot(fpr,tpr),变量roc_auc只是记录auc的值，通过auc()函数能计算出来  \n",
    "plt.plot(fpr, tpr, lw=1, label='ROC fold (area = %0.2f)' % ( roc_auc))"
   ]
  },
  {
   "cell_type": "code",
   "execution_count": 16,
   "metadata": {},
   "outputs": [],
   "source": [
    "df_test.drop([\"id\", \"date\"], axis=1, inplace=True)"
   ]
  },
  {
   "cell_type": "code",
   "execution_count": 17,
   "metadata": {},
   "outputs": [],
   "source": [
    "y_pred = gbm.predict(df_test)"
   ]
  },
  {
   "cell_type": "code",
   "execution_count": 19,
   "metadata": {},
   "outputs": [
    {
     "data": {
      "text/plain": [
       "6.47019204587445e-06"
      ]
     },
     "execution_count": 19,
     "metadata": {},
     "output_type": "execute_result"
    }
   ],
   "source": [
    "y_pred.min()"
   ]
  },
  {
   "cell_type": "code",
   "execution_count": 21,
   "metadata": {},
   "outputs": [
    {
     "data": {
      "text/plain": [
       "0.9351078584977607"
      ]
     },
     "execution_count": 21,
     "metadata": {},
     "output_type": "execute_result"
    }
   ],
   "source": [
    "y_pred.max()"
   ]
  },
  {
   "cell_type": "code",
   "execution_count": 22,
   "metadata": {},
   "outputs": [],
   "source": [
    "np.savetxt(os.getcwd()+\"/prediction/lgb_half_1.txt\", y_pred, delimiter=',')"
   ]
  },
  {
   "cell_type": "code",
   "execution_count": 24,
   "metadata": {},
   "outputs": [],
   "source": [
    "train_1 = train_set[train_label==1]\n",
    "trian_label_1 = train_label[train_label==1]\n",
    "train_0 = train_set[train_label==0]\n",
    "trian_label_0 = train_label[train_label==0]"
   ]
  },
  {
   "cell_type": "code",
   "execution_count": 25,
   "metadata": {},
   "outputs": [],
   "source": [
    "train_stack = []\n",
    "train_stack_label = []\n",
    "for i in range(10):\n",
    "    if i == 0:\n",
    "        train_stack = np.vstack((train_1, train_0))\n",
    "        train_stack_label = np.hstack((trian_label_1, trian_label_0))\n",
    "    else:\n",
    "        train_stack = np.vstack((train_stack, train_1))\n",
    "        train_stack_label = np.hstack((train_stack_label, trian_label_1))"
   ]
  },
  {
   "cell_type": "code",
   "execution_count": 26,
   "metadata": {},
   "outputs": [],
   "source": [
    "from sklearn.utils import shuffle\n",
    "train_fil, label_fil = shuffle(train_stack, train_stack_label)"
   ]
  },
  {
   "cell_type": "code",
   "execution_count": 29,
   "metadata": {},
   "outputs": [
    {
     "data": {
      "text/plain": [
       "(535317, 297)"
      ]
     },
     "execution_count": 29,
     "metadata": {},
     "output_type": "execute_result"
    }
   ],
   "source": [
    "train_fil.shape"
   ]
  },
  {
   "cell_type": "code",
   "execution_count": 38,
   "metadata": {},
   "outputs": [],
   "source": [
    "lgb_train=lgb.Dataset(train_fil,label_fil,free_raw_data=False)\n",
    "lgb_valid=lgb.Dataset(eva_set,eva_label,reference=lgb_train,free_raw_data=False)\n",
    "params = {'boosting_type': 'gbdt',\n",
    "          'objective': 'binary', \n",
    "          'metric': 'auc', \n",
    "          'device': 'cpu', \n",
    "          'verbose': 0, \n",
    "          'learning_rate': 0.01, \n",
    "          'bagging_fraction': 0.8,\n",
    "          'bagging_freq': 5,\n",
    "          'feature_fraction': 0.9,\n",
    "          'lambda_l1': 0.006, \n",
    "          'num_leaves': 58\n",
    "}"
   ]
  },
  {
   "cell_type": "code",
   "execution_count": 39,
   "metadata": {},
   "outputs": [
    {
     "name": "stdout",
     "output_type": "stream",
     "text": [
      "[200]\tvalid_set's auc: 0.975551\tvalid_set's atec_metric: 0.479027\n",
      "[400]\tvalid_set's auc: 0.979659\tvalid_set's atec_metric: 0.488579\n"
     ]
    }
   ],
   "source": [
    "gbm2=lgb.train(params, lgb_train, num_boost_round=500, valid_sets=lgb_valid, valid_names='valid_set', feval=atec_metric, verbose_eval=200)"
   ]
  },
  {
   "cell_type": "code",
   "execution_count": 40,
   "metadata": {},
   "outputs": [],
   "source": [
    "y_pred2 = gbm2.predict(df_test)"
   ]
  },
  {
   "cell_type": "code",
   "execution_count": 41,
   "metadata": {},
   "outputs": [],
   "source": [
    "np.savetxt(os.getcwd()+\"/prediction/lgb_half_stack500.txt\", y_pred2, delimiter=',')"
   ]
  },
  {
   "cell_type": "code",
   "execution_count": 2,
   "metadata": {},
   "outputs": [
    {
     "name": "stdout",
     "output_type": "stream",
     "text": [
      "10 score is 1\n",
      "40 score is 1\n",
      "70 score is 1\n",
      "100 score is 1\n",
      "130 score is 1\n",
      "160 score is 1\n",
      "190 score is 1\n",
      "220 score is 1\n",
      "250 score is 1\n",
      "280 score is 1\n",
      "310 score is 1\n",
      "340 score is 1\n",
      "370 score is 1\n"
     ]
    }
   ],
   "source": [
    "for num in range(10, 380, 30):\n",
    "    print(\"{0} score is {1}\".format(num, 1))"
   ]
  },
  {
   "cell_type": "code",
   "execution_count": null,
   "metadata": {},
   "outputs": [],
   "source": []
  }
 ],
 "metadata": {
  "kernelspec": {
   "display_name": "Python 3",
   "language": "python",
   "name": "python3"
  },
  "language_info": {
   "codemirror_mode": {
    "name": "ipython",
    "version": 3
   },
   "file_extension": ".py",
   "mimetype": "text/x-python",
   "name": "python",
   "nbconvert_exporter": "python",
   "pygments_lexer": "ipython3",
   "version": "3.6.5"
  }
 },
 "nbformat": 4,
 "nbformat_minor": 2
}
