{
 "cells": [
  {
   "cell_type": "code",
   "execution_count": 1,
   "metadata": {},
   "outputs": [
    {
     "ename": "KeyboardInterrupt",
     "evalue": "",
     "output_type": "error",
     "traceback": [
      "\u001b[1;31m---------------------------------------------------------------------------\u001b[0m",
      "\u001b[1;31mKeyboardInterrupt\u001b[0m                         Traceback (most recent call last)",
      "\u001b[1;32m<ipython-input-1-d03cd365498c>\u001b[0m in \u001b[0;36m<module>\u001b[1;34m()\u001b[0m\n\u001b[0;32m      4\u001b[0m \u001b[1;32mimport\u001b[0m \u001b[0mmatplotlib\u001b[0m\u001b[1;33m.\u001b[0m\u001b[0mpyplot\u001b[0m \u001b[1;32mas\u001b[0m \u001b[0mplt\u001b[0m\u001b[1;33m\u001b[0m\u001b[0m\n\u001b[0;32m      5\u001b[0m \u001b[1;33m\u001b[0m\u001b[0m\n\u001b[1;32m----> 6\u001b[1;33m \u001b[0mdf_train\u001b[0m \u001b[1;33m=\u001b[0m \u001b[0mpd\u001b[0m\u001b[1;33m.\u001b[0m\u001b[0mread_csv\u001b[0m\u001b[1;33m(\u001b[0m\u001b[1;34m\"E:\\\\leonhardt\\\\mayi\\\\data\\\\train.csv\"\u001b[0m\u001b[1;33m)\u001b[0m\u001b[1;33m\u001b[0m\u001b[0m\n\u001b[0m",
      "\u001b[1;32mD:\\anaconda\\lib\\site-packages\\pandas\\io\\parsers.py\u001b[0m in \u001b[0;36mparser_f\u001b[1;34m(filepath_or_buffer, sep, delimiter, header, names, index_col, usecols, squeeze, prefix, mangle_dupe_cols, dtype, engine, converters, true_values, false_values, skipinitialspace, skiprows, nrows, na_values, keep_default_na, na_filter, verbose, skip_blank_lines, parse_dates, infer_datetime_format, keep_date_col, date_parser, dayfirst, iterator, chunksize, compression, thousands, decimal, lineterminator, quotechar, quoting, escapechar, comment, encoding, dialect, tupleize_cols, error_bad_lines, warn_bad_lines, skipfooter, doublequote, delim_whitespace, low_memory, memory_map, float_precision)\u001b[0m\n\u001b[0;32m    676\u001b[0m                     skip_blank_lines=skip_blank_lines)\n\u001b[0;32m    677\u001b[0m \u001b[1;33m\u001b[0m\u001b[0m\n\u001b[1;32m--> 678\u001b[1;33m         \u001b[1;32mreturn\u001b[0m \u001b[0m_read\u001b[0m\u001b[1;33m(\u001b[0m\u001b[0mfilepath_or_buffer\u001b[0m\u001b[1;33m,\u001b[0m \u001b[0mkwds\u001b[0m\u001b[1;33m)\u001b[0m\u001b[1;33m\u001b[0m\u001b[0m\n\u001b[0m\u001b[0;32m    679\u001b[0m \u001b[1;33m\u001b[0m\u001b[0m\n\u001b[0;32m    680\u001b[0m     \u001b[0mparser_f\u001b[0m\u001b[1;33m.\u001b[0m\u001b[0m__name__\u001b[0m \u001b[1;33m=\u001b[0m \u001b[0mname\u001b[0m\u001b[1;33m\u001b[0m\u001b[0m\n",
      "\u001b[1;32mD:\\anaconda\\lib\\site-packages\\pandas\\io\\parsers.py\u001b[0m in \u001b[0;36m_read\u001b[1;34m(filepath_or_buffer, kwds)\u001b[0m\n\u001b[0;32m    444\u001b[0m \u001b[1;33m\u001b[0m\u001b[0m\n\u001b[0;32m    445\u001b[0m     \u001b[1;32mtry\u001b[0m\u001b[1;33m:\u001b[0m\u001b[1;33m\u001b[0m\u001b[0m\n\u001b[1;32m--> 446\u001b[1;33m         \u001b[0mdata\u001b[0m \u001b[1;33m=\u001b[0m \u001b[0mparser\u001b[0m\u001b[1;33m.\u001b[0m\u001b[0mread\u001b[0m\u001b[1;33m(\u001b[0m\u001b[0mnrows\u001b[0m\u001b[1;33m)\u001b[0m\u001b[1;33m\u001b[0m\u001b[0m\n\u001b[0m\u001b[0;32m    447\u001b[0m     \u001b[1;32mfinally\u001b[0m\u001b[1;33m:\u001b[0m\u001b[1;33m\u001b[0m\u001b[0m\n\u001b[0;32m    448\u001b[0m         \u001b[0mparser\u001b[0m\u001b[1;33m.\u001b[0m\u001b[0mclose\u001b[0m\u001b[1;33m(\u001b[0m\u001b[1;33m)\u001b[0m\u001b[1;33m\u001b[0m\u001b[0m\n",
      "\u001b[1;32mD:\\anaconda\\lib\\site-packages\\pandas\\io\\parsers.py\u001b[0m in \u001b[0;36mread\u001b[1;34m(self, nrows)\u001b[0m\n\u001b[0;32m   1034\u001b[0m                 \u001b[1;32mraise\u001b[0m \u001b[0mValueError\u001b[0m\u001b[1;33m(\u001b[0m\u001b[1;34m'skipfooter not supported for iteration'\u001b[0m\u001b[1;33m)\u001b[0m\u001b[1;33m\u001b[0m\u001b[0m\n\u001b[0;32m   1035\u001b[0m \u001b[1;33m\u001b[0m\u001b[0m\n\u001b[1;32m-> 1036\u001b[1;33m         \u001b[0mret\u001b[0m \u001b[1;33m=\u001b[0m \u001b[0mself\u001b[0m\u001b[1;33m.\u001b[0m\u001b[0m_engine\u001b[0m\u001b[1;33m.\u001b[0m\u001b[0mread\u001b[0m\u001b[1;33m(\u001b[0m\u001b[0mnrows\u001b[0m\u001b[1;33m)\u001b[0m\u001b[1;33m\u001b[0m\u001b[0m\n\u001b[0m\u001b[0;32m   1037\u001b[0m \u001b[1;33m\u001b[0m\u001b[0m\n\u001b[0;32m   1038\u001b[0m         \u001b[1;31m# May alter columns / col_dict\u001b[0m\u001b[1;33m\u001b[0m\u001b[1;33m\u001b[0m\u001b[0m\n",
      "\u001b[1;32mD:\\anaconda\\lib\\site-packages\\pandas\\io\\parsers.py\u001b[0m in \u001b[0;36mread\u001b[1;34m(self, nrows)\u001b[0m\n\u001b[0;32m   1846\u001b[0m     \u001b[1;32mdef\u001b[0m \u001b[0mread\u001b[0m\u001b[1;33m(\u001b[0m\u001b[0mself\u001b[0m\u001b[1;33m,\u001b[0m \u001b[0mnrows\u001b[0m\u001b[1;33m=\u001b[0m\u001b[1;32mNone\u001b[0m\u001b[1;33m)\u001b[0m\u001b[1;33m:\u001b[0m\u001b[1;33m\u001b[0m\u001b[0m\n\u001b[0;32m   1847\u001b[0m         \u001b[1;32mtry\u001b[0m\u001b[1;33m:\u001b[0m\u001b[1;33m\u001b[0m\u001b[0m\n\u001b[1;32m-> 1848\u001b[1;33m             \u001b[0mdata\u001b[0m \u001b[1;33m=\u001b[0m \u001b[0mself\u001b[0m\u001b[1;33m.\u001b[0m\u001b[0m_reader\u001b[0m\u001b[1;33m.\u001b[0m\u001b[0mread\u001b[0m\u001b[1;33m(\u001b[0m\u001b[0mnrows\u001b[0m\u001b[1;33m)\u001b[0m\u001b[1;33m\u001b[0m\u001b[0m\n\u001b[0m\u001b[0;32m   1849\u001b[0m         \u001b[1;32mexcept\u001b[0m \u001b[0mStopIteration\u001b[0m\u001b[1;33m:\u001b[0m\u001b[1;33m\u001b[0m\u001b[0m\n\u001b[0;32m   1850\u001b[0m             \u001b[1;32mif\u001b[0m \u001b[0mself\u001b[0m\u001b[1;33m.\u001b[0m\u001b[0m_first_chunk\u001b[0m\u001b[1;33m:\u001b[0m\u001b[1;33m\u001b[0m\u001b[0m\n",
      "\u001b[1;32mpandas\\_libs\\parsers.pyx\u001b[0m in \u001b[0;36mpandas._libs.parsers.TextReader.read\u001b[1;34m()\u001b[0m\n",
      "\u001b[1;32mpandas\\_libs\\parsers.pyx\u001b[0m in \u001b[0;36mpandas._libs.parsers.TextReader._read_low_memory\u001b[1;34m()\u001b[0m\n",
      "\u001b[1;32mpandas\\_libs\\parsers.pyx\u001b[0m in \u001b[0;36mpandas._libs.parsers.TextReader._read_rows\u001b[1;34m()\u001b[0m\n",
      "\u001b[1;32mpandas\\_libs\\parsers.pyx\u001b[0m in \u001b[0;36mpandas._libs.parsers.TextReader._convert_column_data\u001b[1;34m()\u001b[0m\n",
      "\u001b[1;32mpandas\\_libs\\parsers.pyx\u001b[0m in \u001b[0;36mpandas._libs.parsers.TextReader._convert_tokens\u001b[1;34m()\u001b[0m\n",
      "\u001b[1;32mpandas\\_libs\\parsers.pyx\u001b[0m in \u001b[0;36mpandas._libs.parsers.TextReader._convert_with_dtype\u001b[1;34m()\u001b[0m\n",
      "\u001b[1;32mD:\\anaconda\\lib\\site-packages\\pandas\\core\\dtypes\\common.py\u001b[0m in \u001b[0;36mis_integer_dtype\u001b[1;34m(arr_or_dtype)\u001b[0m\n\u001b[0;32m    809\u001b[0m \u001b[1;33m\u001b[0m\u001b[0m\n\u001b[0;32m    810\u001b[0m \u001b[1;33m\u001b[0m\u001b[0m\n\u001b[1;32m--> 811\u001b[1;33m \u001b[1;32mdef\u001b[0m \u001b[0mis_integer_dtype\u001b[0m\u001b[1;33m(\u001b[0m\u001b[0marr_or_dtype\u001b[0m\u001b[1;33m)\u001b[0m\u001b[1;33m:\u001b[0m\u001b[1;33m\u001b[0m\u001b[0m\n\u001b[0m\u001b[0;32m    812\u001b[0m     \"\"\"\n\u001b[0;32m    813\u001b[0m     \u001b[0mCheck\u001b[0m \u001b[0mwhether\u001b[0m \u001b[0mthe\u001b[0m \u001b[0mprovided\u001b[0m \u001b[0marray\u001b[0m \u001b[1;32mor\u001b[0m \u001b[0mdtype\u001b[0m \u001b[1;32mis\u001b[0m \u001b[0mof\u001b[0m \u001b[0man\u001b[0m \u001b[0minteger\u001b[0m \u001b[0mdtype\u001b[0m\u001b[1;33m.\u001b[0m\u001b[1;33m\u001b[0m\u001b[0m\n",
      "\u001b[1;31mKeyboardInterrupt\u001b[0m: "
     ]
    }
   ],
   "source": [
    "import os\n",
    "import numpy as np \n",
    "import pandas as pd\n",
    "import matplotlib.pyplot as plt\n",
    "\n",
    "df_train = pd.read_csv(\"E:\\\\leonhardt\\\\mayi\\\\data\\\\train.csv\")"
   ]
  },
  {
   "cell_type": "code",
   "execution_count": 2,
   "metadata": {},
   "outputs": [],
   "source": [
    "df_train=df_train.loc[df_train['label']!=-1]\n",
    "count = df_train.describe().loc[\"count\"]"
   ]
  },
  {
   "cell_type": "code",
   "execution_count": 3,
   "metadata": {},
   "outputs": [],
   "source": [
    "col_null = count.sort_values().index[:12]"
   ]
  },
  {
   "cell_type": "code",
   "execution_count": 4,
   "metadata": {},
   "outputs": [],
   "source": [
    "df_train.drop(col_null, axis=1, inplace=True)"
   ]
  },
  {
   "cell_type": "code",
   "execution_count": 5,
   "metadata": {},
   "outputs": [
    {
     "data": {
      "text/plain": [
       "20171105"
      ]
     },
     "execution_count": 5,
     "metadata": {},
     "output_type": "execute_result"
    }
   ],
   "source": [
    "df_train.loc[:, \"date\"].max()"
   ]
  },
  {
   "cell_type": "code",
   "execution_count": 6,
   "metadata": {},
   "outputs": [
    {
     "data": {
      "text/plain": [
       "20170905"
      ]
     },
     "execution_count": 6,
     "metadata": {},
     "output_type": "execute_result"
    }
   ],
   "source": [
    "df_train.loc[:, \"date\"].min()"
   ]
  },
  {
   "cell_type": "code",
   "execution_count": 7,
   "metadata": {},
   "outputs": [],
   "source": [
    "df_train.dropna(thresh=100, inplace=True)"
   ]
  },
  {
   "cell_type": "code",
   "execution_count": 8,
   "metadata": {},
   "outputs": [
    {
     "data": {
      "text/html": [
       "<div>\n",
       "<style scoped>\n",
       "    .dataframe tbody tr th:only-of-type {\n",
       "        vertical-align: middle;\n",
       "    }\n",
       "\n",
       "    .dataframe tbody tr th {\n",
       "        vertical-align: top;\n",
       "    }\n",
       "\n",
       "    .dataframe thead th {\n",
       "        text-align: right;\n",
       "    }\n",
       "</style>\n",
       "<table border=\"1\" class=\"dataframe\">\n",
       "  <thead>\n",
       "    <tr style=\"text-align: right;\">\n",
       "      <th></th>\n",
       "      <th>label</th>\n",
       "      <th>date</th>\n",
       "      <th>f1</th>\n",
       "      <th>f2</th>\n",
       "      <th>f3</th>\n",
       "      <th>f4</th>\n",
       "      <th>f5</th>\n",
       "      <th>f6</th>\n",
       "      <th>f7</th>\n",
       "      <th>f8</th>\n",
       "      <th>...</th>\n",
       "      <th>f288</th>\n",
       "      <th>f289</th>\n",
       "      <th>f290</th>\n",
       "      <th>f291</th>\n",
       "      <th>f292</th>\n",
       "      <th>f293</th>\n",
       "      <th>f294</th>\n",
       "      <th>f295</th>\n",
       "      <th>f296</th>\n",
       "      <th>f297</th>\n",
       "    </tr>\n",
       "  </thead>\n",
       "  <tbody>\n",
       "    <tr>\n",
       "      <th>count</th>\n",
       "      <td>859199.000000</td>\n",
       "      <td>8.591990e+05</td>\n",
       "      <td>859199.000000</td>\n",
       "      <td>859199.000000</td>\n",
       "      <td>859199.000000</td>\n",
       "      <td>859199.000000</td>\n",
       "      <td>791632.000000</td>\n",
       "      <td>859199.000000</td>\n",
       "      <td>859199.000000</td>\n",
       "      <td>859199.000000</td>\n",
       "      <td>...</td>\n",
       "      <td>783971.000000</td>\n",
       "      <td>783971.000000</td>\n",
       "      <td>783971.000000</td>\n",
       "      <td>783971.000000</td>\n",
       "      <td>783971.000000</td>\n",
       "      <td>783971.000000</td>\n",
       "      <td>783971.000000</td>\n",
       "      <td>783971.000000</td>\n",
       "      <td>783971.000000</td>\n",
       "      <td>783971.000000</td>\n",
       "    </tr>\n",
       "    <tr>\n",
       "      <th>mean</th>\n",
       "      <td>0.008203</td>\n",
       "      <td>2.017098e+07</td>\n",
       "      <td>0.607969</td>\n",
       "      <td>0.501113</td>\n",
       "      <td>0.576794</td>\n",
       "      <td>0.500608</td>\n",
       "      <td>100650.241535</td>\n",
       "      <td>0.511502</td>\n",
       "      <td>4.304365</td>\n",
       "      <td>1.403904</td>\n",
       "      <td>...</td>\n",
       "      <td>159.352675</td>\n",
       "      <td>164.243554</td>\n",
       "      <td>173.978341</td>\n",
       "      <td>57.588783</td>\n",
       "      <td>149.331654</td>\n",
       "      <td>104.939758</td>\n",
       "      <td>105.126756</td>\n",
       "      <td>105.129363</td>\n",
       "      <td>41.213852</td>\n",
       "      <td>98.908017</td>\n",
       "    </tr>\n",
       "    <tr>\n",
       "      <th>std</th>\n",
       "      <td>0.090198</td>\n",
       "      <td>6.028784e+01</td>\n",
       "      <td>0.588674</td>\n",
       "      <td>0.500420</td>\n",
       "      <td>0.567156</td>\n",
       "      <td>0.500000</td>\n",
       "      <td>4002.892038</td>\n",
       "      <td>0.531374</td>\n",
       "      <td>1.860024</td>\n",
       "      <td>0.579801</td>\n",
       "      <td>...</td>\n",
       "      <td>149.137901</td>\n",
       "      <td>152.237610</td>\n",
       "      <td>164.134592</td>\n",
       "      <td>63.125896</td>\n",
       "      <td>142.629036</td>\n",
       "      <td>100.006813</td>\n",
       "      <td>100.159532</td>\n",
       "      <td>100.157312</td>\n",
       "      <td>45.663087</td>\n",
       "      <td>96.237474</td>\n",
       "    </tr>\n",
       "    <tr>\n",
       "      <th>min</th>\n",
       "      <td>0.000000</td>\n",
       "      <td>2.017090e+07</td>\n",
       "      <td>0.000000</td>\n",
       "      <td>0.000000</td>\n",
       "      <td>0.000000</td>\n",
       "      <td>0.000000</td>\n",
       "      <td>10000.000000</td>\n",
       "      <td>0.000000</td>\n",
       "      <td>0.000000</td>\n",
       "      <td>0.000000</td>\n",
       "      <td>...</td>\n",
       "      <td>1.000000</td>\n",
       "      <td>1.000000</td>\n",
       "      <td>1.000000</td>\n",
       "      <td>1.000000</td>\n",
       "      <td>1.000000</td>\n",
       "      <td>1.000000</td>\n",
       "      <td>1.000000</td>\n",
       "      <td>1.000000</td>\n",
       "      <td>1.000000</td>\n",
       "      <td>1.000000</td>\n",
       "    </tr>\n",
       "    <tr>\n",
       "      <th>25%</th>\n",
       "      <td>0.000000</td>\n",
       "      <td>2.017092e+07</td>\n",
       "      <td>0.000000</td>\n",
       "      <td>0.000000</td>\n",
       "      <td>0.000000</td>\n",
       "      <td>0.000000</td>\n",
       "      <td>100802.000000</td>\n",
       "      <td>0.000000</td>\n",
       "      <td>3.000000</td>\n",
       "      <td>1.000000</td>\n",
       "      <td>...</td>\n",
       "      <td>2.000000</td>\n",
       "      <td>2.000000</td>\n",
       "      <td>3.000000</td>\n",
       "      <td>2.000000</td>\n",
       "      <td>2.000000</td>\n",
       "      <td>2.000000</td>\n",
       "      <td>2.000000</td>\n",
       "      <td>2.000000</td>\n",
       "      <td>2.000000</td>\n",
       "      <td>2.000000</td>\n",
       "    </tr>\n",
       "    <tr>\n",
       "      <th>50%</th>\n",
       "      <td>0.000000</td>\n",
       "      <td>2.017101e+07</td>\n",
       "      <td>1.000000</td>\n",
       "      <td>1.000000</td>\n",
       "      <td>1.000000</td>\n",
       "      <td>1.000000</td>\n",
       "      <td>100804.000000</td>\n",
       "      <td>1.000000</td>\n",
       "      <td>4.000000</td>\n",
       "      <td>1.000000</td>\n",
       "      <td>...</td>\n",
       "      <td>301.000000</td>\n",
       "      <td>301.000000</td>\n",
       "      <td>301.000000</td>\n",
       "      <td>26.000000</td>\n",
       "      <td>183.000000</td>\n",
       "      <td>163.000000</td>\n",
       "      <td>164.000000</td>\n",
       "      <td>164.000000</td>\n",
       "      <td>17.000000</td>\n",
       "      <td>115.000000</td>\n",
       "    </tr>\n",
       "    <tr>\n",
       "      <th>75%</th>\n",
       "      <td>0.000000</td>\n",
       "      <td>2.017102e+07</td>\n",
       "      <td>1.000000</td>\n",
       "      <td>1.000000</td>\n",
       "      <td>1.000000</td>\n",
       "      <td>1.000000</td>\n",
       "      <td>100806.000000</td>\n",
       "      <td>1.000000</td>\n",
       "      <td>6.000000</td>\n",
       "      <td>2.000000</td>\n",
       "      <td>...</td>\n",
       "      <td>302.000000</td>\n",
       "      <td>303.000000</td>\n",
       "      <td>306.000000</td>\n",
       "      <td>109.000000</td>\n",
       "      <td>301.000000</td>\n",
       "      <td>199.000000</td>\n",
       "      <td>199.000000</td>\n",
       "      <td>199.000000</td>\n",
       "      <td>79.000000</td>\n",
       "      <td>194.000000</td>\n",
       "    </tr>\n",
       "    <tr>\n",
       "      <th>max</th>\n",
       "      <td>1.000000</td>\n",
       "      <td>2.017110e+07</td>\n",
       "      <td>2.000000</td>\n",
       "      <td>2.000000</td>\n",
       "      <td>2.000000</td>\n",
       "      <td>1.000000</td>\n",
       "      <td>150406.000000</td>\n",
       "      <td>4.000000</td>\n",
       "      <td>7.000000</td>\n",
       "      <td>2.000000</td>\n",
       "      <td>...</td>\n",
       "      <td>302.000000</td>\n",
       "      <td>388.000000</td>\n",
       "      <td>669.000000</td>\n",
       "      <td>302.000000</td>\n",
       "      <td>302.000000</td>\n",
       "      <td>299.000000</td>\n",
       "      <td>299.000000</td>\n",
       "      <td>299.000000</td>\n",
       "      <td>280.000000</td>\n",
       "      <td>299.000000</td>\n",
       "    </tr>\n",
       "  </tbody>\n",
       "</table>\n",
       "<p>8 rows × 287 columns</p>\n",
       "</div>"
      ],
      "text/plain": [
       "               label          date             f1             f2  \\\n",
       "count  859199.000000  8.591990e+05  859199.000000  859199.000000   \n",
       "mean        0.008203  2.017098e+07       0.607969       0.501113   \n",
       "std         0.090198  6.028784e+01       0.588674       0.500420   \n",
       "min         0.000000  2.017090e+07       0.000000       0.000000   \n",
       "25%         0.000000  2.017092e+07       0.000000       0.000000   \n",
       "50%         0.000000  2.017101e+07       1.000000       1.000000   \n",
       "75%         0.000000  2.017102e+07       1.000000       1.000000   \n",
       "max         1.000000  2.017110e+07       2.000000       2.000000   \n",
       "\n",
       "                  f3             f4             f5             f6  \\\n",
       "count  859199.000000  859199.000000  791632.000000  859199.000000   \n",
       "mean        0.576794       0.500608  100650.241535       0.511502   \n",
       "std         0.567156       0.500000    4002.892038       0.531374   \n",
       "min         0.000000       0.000000   10000.000000       0.000000   \n",
       "25%         0.000000       0.000000  100802.000000       0.000000   \n",
       "50%         1.000000       1.000000  100804.000000       1.000000   \n",
       "75%         1.000000       1.000000  100806.000000       1.000000   \n",
       "max         2.000000       1.000000  150406.000000       4.000000   \n",
       "\n",
       "                  f7             f8      ...                 f288  \\\n",
       "count  859199.000000  859199.000000      ...        783971.000000   \n",
       "mean        4.304365       1.403904      ...           159.352675   \n",
       "std         1.860024       0.579801      ...           149.137901   \n",
       "min         0.000000       0.000000      ...             1.000000   \n",
       "25%         3.000000       1.000000      ...             2.000000   \n",
       "50%         4.000000       1.000000      ...           301.000000   \n",
       "75%         6.000000       2.000000      ...           302.000000   \n",
       "max         7.000000       2.000000      ...           302.000000   \n",
       "\n",
       "                f289           f290           f291           f292  \\\n",
       "count  783971.000000  783971.000000  783971.000000  783971.000000   \n",
       "mean      164.243554     173.978341      57.588783     149.331654   \n",
       "std       152.237610     164.134592      63.125896     142.629036   \n",
       "min         1.000000       1.000000       1.000000       1.000000   \n",
       "25%         2.000000       3.000000       2.000000       2.000000   \n",
       "50%       301.000000     301.000000      26.000000     183.000000   \n",
       "75%       303.000000     306.000000     109.000000     301.000000   \n",
       "max       388.000000     669.000000     302.000000     302.000000   \n",
       "\n",
       "                f293           f294           f295           f296  \\\n",
       "count  783971.000000  783971.000000  783971.000000  783971.000000   \n",
       "mean      104.939758     105.126756     105.129363      41.213852   \n",
       "std       100.006813     100.159532     100.157312      45.663087   \n",
       "min         1.000000       1.000000       1.000000       1.000000   \n",
       "25%         2.000000       2.000000       2.000000       2.000000   \n",
       "50%       163.000000     164.000000     164.000000      17.000000   \n",
       "75%       199.000000     199.000000     199.000000      79.000000   \n",
       "max       299.000000     299.000000     299.000000     280.000000   \n",
       "\n",
       "                f297  \n",
       "count  783971.000000  \n",
       "mean       98.908017  \n",
       "std        96.237474  \n",
       "min         1.000000  \n",
       "25%         2.000000  \n",
       "50%       115.000000  \n",
       "75%       194.000000  \n",
       "max       299.000000  \n",
       "\n",
       "[8 rows x 287 columns]"
      ]
     },
     "execution_count": 8,
     "metadata": {},
     "output_type": "execute_result"
    }
   ],
   "source": [
    "df_train.describe()"
   ]
  },
  {
   "cell_type": "code",
   "execution_count": 8,
   "metadata": {},
   "outputs": [],
   "source": [
    "train_set = df_train[df_train.loc[:, \"date\"]<=20171025]\n",
    "eva_set = df_train[df_train.loc[:, \"date\"]>20171025]"
   ]
  },
  {
   "cell_type": "code",
   "execution_count": 9,
   "metadata": {},
   "outputs": [],
   "source": [
    "del df_train"
   ]
  },
  {
   "cell_type": "code",
   "execution_count": 10,
   "metadata": {},
   "outputs": [
    {
     "data": {
      "text/plain": [
       "0"
      ]
     },
     "execution_count": 10,
     "metadata": {},
     "output_type": "execute_result"
    }
   ],
   "source": [
    "import gc\n",
    "gc.collect()"
   ]
  },
  {
   "cell_type": "code",
   "execution_count": 11,
   "metadata": {},
   "outputs": [],
   "source": [
    "import lightgbm as lgb"
   ]
  },
  {
   "cell_type": "code",
   "execution_count": 12,
   "metadata": {},
   "outputs": [],
   "source": [
    "train_label = train_set.loc[:, \"label\"]\n",
    "eva_label = eva_set.loc[:, \"label\"]"
   ]
  },
  {
   "cell_type": "code",
   "execution_count": 13,
   "metadata": {},
   "outputs": [],
   "source": [
    "train_set.drop([\"id\",\"date\", \"label\"], axis=1, inplace=True)\n",
    "eva_set.drop([\"id\",\"date\", \"label\"], axis=1, inplace=True)"
   ]
  },
  {
   "cell_type": "code",
   "execution_count": 14,
   "metadata": {},
   "outputs": [],
   "source": [
    "lgb_train=lgb.Dataset(train_set,train_label,free_raw_data=False)\n",
    "lgb_valid=lgb.Dataset(eva_set,eva_label,reference=lgb_train,free_raw_data=False)\n",
    "params = {'boosting_type': 'gbdt',\n",
    "          'objective': 'binary', \n",
    "          'metric': 'auc', \n",
    "          'device': 'cpu', \n",
    "          'verbose': 0, \n",
    "          'learning_rate': 0.01, \n",
    "          'bagging_fraction': 0.8,\n",
    "          'bagging_freq': 5,\n",
    "          'feature_fraction': 0.9,\n",
    "          'lambda_l1': 0.006, \n",
    "          'num_leaves': 128,\n",
    "          'early_stopping_round': 30\n",
    "}"
   ]
  },
  {
   "cell_type": "code",
   "execution_count": 15,
   "metadata": {},
   "outputs": [
    {
     "name": "stderr",
     "output_type": "stream",
     "text": [
      "D:\\anaconda\\lib\\site-packages\\lightgbm\\engine.py:104: UserWarning: Found `early_stopping_round` in params. Will use it instead of argument\n",
      "  warnings.warn(\"Found `{}` in params. Will use it instead of argument\".format(alias))\n"
     ]
    },
    {
     "name": "stdout",
     "output_type": "stream",
     "text": [
      "Training until validation scores don't improve for 30 rounds.\n",
      "Early stopping, best iteration is:\n",
      "[150]\tvalid_set's auc: 0.983955\tvalid_set's atec_metric: 0.66835\n"
     ]
    }
   ],
   "source": [
    "from sklearn.metrics import roc_auc_score,roc_curve\n",
    "def atec_metric(preds, train_data):\n",
    "    labels = train_data.get_label()\n",
    "    fpr,tpr,threshhold=roc_curve(labels, preds)\n",
    "    return 'atec_metric', 0.4*tpr[fpr<=0.001][-1] + 0.3*tpr[fpr<=0.005][-1] + 0.3*tpr[fpr<=0.01][-1], True\n",
    "\n",
    "gbm=lgb.train(params, lgb_train, num_boost_round=2000, valid_sets=lgb_valid, valid_names='valid_set', feval=atec_metric, verbose_eval=500)"
   ]
  },
  {
   "cell_type": "code",
   "execution_count": 16,
   "metadata": {},
   "outputs": [
    {
     "data": {
      "text/plain": [
       "array([ 15,   6,  20,   3, 711,  16, 974,  12,   7,  24,  10,  16,  10,\n",
       "        24,  12,  17,  33,  11,  11,  30,  72,  33,  38, 311, 248, 234,\n",
       "       133, 148, 148, 217, 262, 201, 210, 247, 204, 229, 203, 223, 205,\n",
       "       281, 316, 126,  99, 106, 153, 285,   4,  15,  43,  57, 219,  30,\n",
       "        19,  27,  18,  22,  34,  17,  30,  42,  71,  45,  48,  49,  75,\n",
       "        70,  46, 121, 263, 237, 212, 209, 336, 214,  17,   7,  19,  50,\n",
       "        49,  16,  12,   8,  14,  28,  28,  70,  58, 132, 300,  91,  96,\n",
       "        89, 223, 407,  30,  23,  11,  58,  22,  32,  57,  23,  10,  14,\n",
       "         7,  16,  13,  29,   5,  10,  15,  12,  17,  11,   7,  11,  15,\n",
       "        14,  15,  26,   8,  36,   6,  11,  23,   7,   5,  12,   1,  30,\n",
       "        31,  14,  24,  26,  16,  43,  24,  20,  36,   7,   2,  22,  12,\n",
       "        36,  10,  11,  16,   4,  51,  19,  15,  43,  31,   1,   3,   4,\n",
       "         6,   5,  18,  10,   4,   6,  27,  15,  38,  62,  30,  18,  21,\n",
       "        51,  34,  70, 164,   6,   6,   8,   5,   3,   6,  21,  16,  11,\n",
       "        12,   8,  13,  12,   4,   6,  10, 105,  22, 128,  68,  73,  47,\n",
       "        42,  98, 692,  23,  16,  30,  29,  96,  60,  47,  73,  18,  25,\n",
       "         7,  54,  28,  37,  21,  51,  15,   6,  13,  40,  36,  35,  28,\n",
       "       142, 182,  74, 111, 289,  75,  85,  84,  30,  47, 100,  87,  52,\n",
       "        46,  51,  29,  38,  61,  53, 112,   3,  10,   5,   7,  13, 230,\n",
       "       158,  88, 143, 126,  67,  79, 127,   8,   5,  23,  97,  41,   1,\n",
       "         9,  19,  38,  21,  20,  88,  66,  38,  34,  67,  35,  32,  41,\n",
       "        27,  40,  16,  43,  79,  61,  13,  24,   9,  15,  57,  46])"
      ]
     },
     "execution_count": 16,
     "metadata": {},
     "output_type": "execute_result"
    }
   ],
   "source": [
    "gbm.feature_importance()"
   ]
  },
  {
   "cell_type": "code",
   "execution_count": 17,
   "metadata": {},
   "outputs": [
    {
     "data": {
      "text/plain": [
       "<Figure size 432x288 with 0 Axes>"
      ]
     },
     "metadata": {},
     "output_type": "display_data"
    },
    {
     "data": {
      "image/png": "[encoded data removed]",
      "text/plain": [
       "<Figure size 432x288 with 1 Axes>"
      ]
     },
     "metadata": {},
     "output_type": "display_data"
    }
   ],
   "source": [
    "plt.figure()\n",
    "lgb.plot_importance(gbm, max_num_features=30)\n",
    "plt.title(\"Featurertances\")\n",
    "plt.show()"
   ]
  },
  {
   "cell_type": "code",
   "execution_count": 26,
   "metadata": {},
   "outputs": [
    {
     "ename": "AttributeError",
     "evalue": "'Booster' object has no attribute 'booster'",
     "output_type": "error",
     "traceback": [
      "\u001b[1;31m---------------------------------------------------------------------------\u001b[0m",
      "\u001b[1;31mAttributeError\u001b[0m                            Traceback (most recent call last)",
      "\u001b[1;32m<ipython-input-26-2da6c5c207a8>\u001b[0m in \u001b[0;36m<module>\u001b[1;34m()\u001b[0m\n\u001b[1;32m----> 1\u001b[1;33m \u001b[0mbooster\u001b[0m \u001b[1;33m=\u001b[0m \u001b[0mgbm\u001b[0m\u001b[1;33m.\u001b[0m\u001b[0mbooster\u001b[0m\u001b[1;33m\u001b[0m\u001b[0m\n\u001b[0m\u001b[0;32m      2\u001b[0m \u001b[0mimportance\u001b[0m \u001b[1;33m=\u001b[0m \u001b[0mbooster\u001b[0m\u001b[1;33m.\u001b[0m\u001b[0mfeature_importance\u001b[0m\u001b[1;33m(\u001b[0m\u001b[0mimportance_type\u001b[0m\u001b[1;33m=\u001b[0m\u001b[1;34m'split'\u001b[0m\u001b[1;33m)\u001b[0m\u001b[1;33m\u001b[0m\u001b[0m\n\u001b[0;32m      3\u001b[0m \u001b[0mfeature_name\u001b[0m \u001b[1;33m=\u001b[0m \u001b[0mbooster\u001b[0m\u001b[1;33m.\u001b[0m\u001b[0mfeature_name\u001b[0m\u001b[1;33m(\u001b[0m\u001b[1;33m)\u001b[0m\u001b[1;33m\u001b[0m\u001b[0m\n\u001b[0;32m      4\u001b[0m \u001b[1;31m# for (feature_name,importance) in zip(feature_name,importance):\u001b[0m\u001b[1;33m\u001b[0m\u001b[1;33m\u001b[0m\u001b[0m\n\u001b[0;32m      5\u001b[0m \u001b[1;31m#     print (feature_name,importance)\u001b[0m\u001b[1;33m\u001b[0m\u001b[1;33m\u001b[0m\u001b[0m\n",
      "\u001b[1;31mAttributeError\u001b[0m: 'Booster' object has no attribute 'booster'"
     ]
    }
   ],
   "source": [
    "booster = gbm.booster\n",
    "importance = booster.feature_importance(importance_type='split')\n",
    "feature_name = booster.feature_name()\n",
    "# for (feature_name,importance) in zip(feature_name,importance):\n",
    "#     print (feature_name,importance) \n",
    "feature_importance = pd.DataFrame({'feature_name':feature_name,'importance':importance} )"
   ]
  },
  {
   "cell_type": "code",
   "execution_count": 18,
   "metadata": {},
   "outputs": [
    {
     "name": "stdout",
     "output_type": "stream",
     "text": [
      "Feature importances: [15, 6, 20, 3, 711, 16, 974, 12, 7, 24, 10, 16, 10, 24, 12, 17, 33, 11, 11, 30, 72, 33, 38, 311, 248, 234, 133, 148, 148, 217, 262, 201, 210, 247, 204, 229, 203, 223, 205, 281, 316, 126, 99, 106, 153, 285, 4, 15, 43, 57, 219, 30, 19, 27, 18, 22, 34, 17, 30, 42, 71, 45, 48, 49, 75, 70, 46, 121, 263, 237, 212, 209, 336, 214, 17, 7, 19, 50, 49, 16, 12, 8, 14, 28, 28, 70, 58, 132, 300, 91, 96, 89, 223, 407, 30, 23, 11, 58, 22, 32, 57, 23, 10, 14, 7, 16, 13, 29, 5, 10, 15, 12, 17, 11, 7, 11, 15, 14, 15, 26, 8, 36, 6, 11, 23, 7, 5, 12, 1, 30, 31, 14, 24, 26, 16, 43, 24, 20, 36, 7, 2, 22, 12, 36, 10, 11, 16, 4, 51, 19, 15, 43, 31, 1, 3, 4, 6, 5, 18, 10, 4, 6, 27, 15, 38, 62, 30, 18, 21, 51, 34, 70, 164, 6, 6, 8, 5, 3, 6, 21, 16, 11, 12, 8, 13, 12, 4, 6, 10, 105, 22, 128, 68, 73, 47, 42, 98, 692, 23, 16, 30, 29, 96, 60, 47, 73, 18, 25, 7, 54, 28, 37, 21, 51, 15, 6, 13, 40, 36, 35, 28, 142, 182, 74, 111, 289, 75, 85, 84, 30, 47, 100, 87, 52, 46, 51, 29, 38, 61, 53, 112, 3, 10, 5, 7, 13, 230, 158, 88, 143, 126, 67, 79, 127, 8, 5, 23, 97, 41, 1, 9, 19, 38, 21, 20, 88, 66, 38, 34, 67, 35, 32, 41, 27, 40, 16, 43, 79, 61, 13, 24, 9, 15, 57, 46]\n"
     ]
    }
   ],
   "source": [
    "print('Feature importances:', list(gbm.feature_importance()))"
   ]
  },
  {
   "cell_type": "code",
   "execution_count": 19,
   "metadata": {},
   "outputs": [],
   "source": [
    "feature_imp = pd.DataFrame({\n",
    "        'column': gbm.feature_name(),\n",
    "        'importance': gbm.feature_importance(),\n",
    "    })"
   ]
  },
  {
   "cell_type": "code",
   "execution_count": 20,
   "metadata": {},
   "outputs": [
    {
     "data": {
      "text/html": [
       "<div>\n",
       "<style scoped>\n",
       "    .dataframe tbody tr th:only-of-type {\n",
       "        vertical-align: middle;\n",
       "    }\n",
       "\n",
       "    .dataframe tbody tr th {\n",
       "        vertical-align: top;\n",
       "    }\n",
       "\n",
       "    .dataframe thead th {\n",
       "        text-align: right;\n",
       "    }\n",
       "</style>\n",
       "<table border=\"1\" class=\"dataframe\">\n",
       "  <thead>\n",
       "    <tr style=\"text-align: right;\">\n",
       "      <th></th>\n",
       "      <th>column</th>\n",
       "      <th>importance</th>\n",
       "    </tr>\n",
       "  </thead>\n",
       "  <tbody>\n",
       "    <tr>\n",
       "      <th>6</th>\n",
       "      <td>f7</td>\n",
       "      <td>974</td>\n",
       "    </tr>\n",
       "    <tr>\n",
       "      <th>4</th>\n",
       "      <td>f5</td>\n",
       "      <td>711</td>\n",
       "    </tr>\n",
       "    <tr>\n",
       "      <th>197</th>\n",
       "      <td>f210</td>\n",
       "      <td>692</td>\n",
       "    </tr>\n",
       "    <tr>\n",
       "      <th>93</th>\n",
       "      <td>f106</td>\n",
       "      <td>407</td>\n",
       "    </tr>\n",
       "    <tr>\n",
       "      <th>72</th>\n",
       "      <td>f85</td>\n",
       "      <td>336</td>\n",
       "    </tr>\n",
       "    <tr>\n",
       "      <th>40</th>\n",
       "      <td>f53</td>\n",
       "      <td>316</td>\n",
       "    </tr>\n",
       "    <tr>\n",
       "      <th>23</th>\n",
       "      <td>f24</td>\n",
       "      <td>311</td>\n",
       "    </tr>\n",
       "    <tr>\n",
       "      <th>88</th>\n",
       "      <td>f101</td>\n",
       "      <td>300</td>\n",
       "    </tr>\n",
       "    <tr>\n",
       "      <th>225</th>\n",
       "      <td>f238</td>\n",
       "      <td>289</td>\n",
       "    </tr>\n",
       "    <tr>\n",
       "      <th>45</th>\n",
       "      <td>f58</td>\n",
       "      <td>285</td>\n",
       "    </tr>\n",
       "    <tr>\n",
       "      <th>39</th>\n",
       "      <td>f52</td>\n",
       "      <td>281</td>\n",
       "    </tr>\n",
       "    <tr>\n",
       "      <th>68</th>\n",
       "      <td>f81</td>\n",
       "      <td>263</td>\n",
       "    </tr>\n",
       "    <tr>\n",
       "      <th>30</th>\n",
       "      <td>f31</td>\n",
       "      <td>262</td>\n",
       "    </tr>\n",
       "    <tr>\n",
       "      <th>24</th>\n",
       "      <td>f25</td>\n",
       "      <td>248</td>\n",
       "    </tr>\n",
       "    <tr>\n",
       "      <th>33</th>\n",
       "      <td>f34</td>\n",
       "      <td>247</td>\n",
       "    </tr>\n",
       "    <tr>\n",
       "      <th>69</th>\n",
       "      <td>f82</td>\n",
       "      <td>237</td>\n",
       "    </tr>\n",
       "    <tr>\n",
       "      <th>25</th>\n",
       "      <td>f26</td>\n",
       "      <td>234</td>\n",
       "    </tr>\n",
       "    <tr>\n",
       "      <th>246</th>\n",
       "      <td>f259</td>\n",
       "      <td>230</td>\n",
       "    </tr>\n",
       "    <tr>\n",
       "      <th>35</th>\n",
       "      <td>f48</td>\n",
       "      <td>229</td>\n",
       "    </tr>\n",
       "    <tr>\n",
       "      <th>92</th>\n",
       "      <td>f105</td>\n",
       "      <td>223</td>\n",
       "    </tr>\n",
       "    <tr>\n",
       "      <th>37</th>\n",
       "      <td>f50</td>\n",
       "      <td>223</td>\n",
       "    </tr>\n",
       "    <tr>\n",
       "      <th>50</th>\n",
       "      <td>f63</td>\n",
       "      <td>219</td>\n",
       "    </tr>\n",
       "    <tr>\n",
       "      <th>29</th>\n",
       "      <td>f30</td>\n",
       "      <td>217</td>\n",
       "    </tr>\n",
       "    <tr>\n",
       "      <th>73</th>\n",
       "      <td>f86</td>\n",
       "      <td>214</td>\n",
       "    </tr>\n",
       "    <tr>\n",
       "      <th>70</th>\n",
       "      <td>f83</td>\n",
       "      <td>212</td>\n",
       "    </tr>\n",
       "    <tr>\n",
       "      <th>32</th>\n",
       "      <td>f33</td>\n",
       "      <td>210</td>\n",
       "    </tr>\n",
       "    <tr>\n",
       "      <th>71</th>\n",
       "      <td>f84</td>\n",
       "      <td>209</td>\n",
       "    </tr>\n",
       "    <tr>\n",
       "      <th>38</th>\n",
       "      <td>f51</td>\n",
       "      <td>205</td>\n",
       "    </tr>\n",
       "    <tr>\n",
       "      <th>34</th>\n",
       "      <td>f35</td>\n",
       "      <td>204</td>\n",
       "    </tr>\n",
       "    <tr>\n",
       "      <th>36</th>\n",
       "      <td>f49</td>\n",
       "      <td>203</td>\n",
       "    </tr>\n",
       "    <tr>\n",
       "      <th>...</th>\n",
       "      <td>...</td>\n",
       "      <td>...</td>\n",
       "    </tr>\n",
       "    <tr>\n",
       "      <th>114</th>\n",
       "      <td>f127</td>\n",
       "      <td>7</td>\n",
       "    </tr>\n",
       "    <tr>\n",
       "      <th>139</th>\n",
       "      <td>f152</td>\n",
       "      <td>7</td>\n",
       "    </tr>\n",
       "    <tr>\n",
       "      <th>174</th>\n",
       "      <td>f187</td>\n",
       "      <td>6</td>\n",
       "    </tr>\n",
       "    <tr>\n",
       "      <th>122</th>\n",
       "      <td>f135</td>\n",
       "      <td>6</td>\n",
       "    </tr>\n",
       "    <tr>\n",
       "      <th>187</th>\n",
       "      <td>f200</td>\n",
       "      <td>6</td>\n",
       "    </tr>\n",
       "    <tr>\n",
       "      <th>156</th>\n",
       "      <td>f169</td>\n",
       "      <td>6</td>\n",
       "    </tr>\n",
       "    <tr>\n",
       "      <th>178</th>\n",
       "      <td>f191</td>\n",
       "      <td>6</td>\n",
       "    </tr>\n",
       "    <tr>\n",
       "      <th>215</th>\n",
       "      <td>f228</td>\n",
       "      <td>6</td>\n",
       "    </tr>\n",
       "    <tr>\n",
       "      <th>1</th>\n",
       "      <td>f2</td>\n",
       "      <td>6</td>\n",
       "    </tr>\n",
       "    <tr>\n",
       "      <th>161</th>\n",
       "      <td>f174</td>\n",
       "      <td>6</td>\n",
       "    </tr>\n",
       "    <tr>\n",
       "      <th>173</th>\n",
       "      <td>f186</td>\n",
       "      <td>6</td>\n",
       "    </tr>\n",
       "    <tr>\n",
       "      <th>126</th>\n",
       "      <td>f139</td>\n",
       "      <td>5</td>\n",
       "    </tr>\n",
       "    <tr>\n",
       "      <th>243</th>\n",
       "      <td>f256</td>\n",
       "      <td>5</td>\n",
       "    </tr>\n",
       "    <tr>\n",
       "      <th>176</th>\n",
       "      <td>f189</td>\n",
       "      <td>5</td>\n",
       "    </tr>\n",
       "    <tr>\n",
       "      <th>255</th>\n",
       "      <td>f268</td>\n",
       "      <td>5</td>\n",
       "    </tr>\n",
       "    <tr>\n",
       "      <th>157</th>\n",
       "      <td>f170</td>\n",
       "      <td>5</td>\n",
       "    </tr>\n",
       "    <tr>\n",
       "      <th>108</th>\n",
       "      <td>f121</td>\n",
       "      <td>5</td>\n",
       "    </tr>\n",
       "    <tr>\n",
       "      <th>160</th>\n",
       "      <td>f173</td>\n",
       "      <td>4</td>\n",
       "    </tr>\n",
       "    <tr>\n",
       "      <th>46</th>\n",
       "      <td>f59</td>\n",
       "      <td>4</td>\n",
       "    </tr>\n",
       "    <tr>\n",
       "      <th>147</th>\n",
       "      <td>f160</td>\n",
       "      <td>4</td>\n",
       "    </tr>\n",
       "    <tr>\n",
       "      <th>155</th>\n",
       "      <td>f168</td>\n",
       "      <td>4</td>\n",
       "    </tr>\n",
       "    <tr>\n",
       "      <th>186</th>\n",
       "      <td>f199</td>\n",
       "      <td>4</td>\n",
       "    </tr>\n",
       "    <tr>\n",
       "      <th>177</th>\n",
       "      <td>f190</td>\n",
       "      <td>3</td>\n",
       "    </tr>\n",
       "    <tr>\n",
       "      <th>241</th>\n",
       "      <td>f254</td>\n",
       "      <td>3</td>\n",
       "    </tr>\n",
       "    <tr>\n",
       "      <th>154</th>\n",
       "      <td>f167</td>\n",
       "      <td>3</td>\n",
       "    </tr>\n",
       "    <tr>\n",
       "      <th>3</th>\n",
       "      <td>f4</td>\n",
       "      <td>3</td>\n",
       "    </tr>\n",
       "    <tr>\n",
       "      <th>140</th>\n",
       "      <td>f153</td>\n",
       "      <td>2</td>\n",
       "    </tr>\n",
       "    <tr>\n",
       "      <th>153</th>\n",
       "      <td>f166</td>\n",
       "      <td>1</td>\n",
       "    </tr>\n",
       "    <tr>\n",
       "      <th>128</th>\n",
       "      <td>f141</td>\n",
       "      <td>1</td>\n",
       "    </tr>\n",
       "    <tr>\n",
       "      <th>259</th>\n",
       "      <td>f272</td>\n",
       "      <td>1</td>\n",
       "    </tr>\n",
       "  </tbody>\n",
       "</table>\n",
       "<p>285 rows × 2 columns</p>\n",
       "</div>"
      ],
      "text/plain": [
       "    column  importance\n",
       "6       f7         974\n",
       "4       f5         711\n",
       "197   f210         692\n",
       "93    f106         407\n",
       "72     f85         336\n",
       "40     f53         316\n",
       "23     f24         311\n",
       "88    f101         300\n",
       "225   f238         289\n",
       "45     f58         285\n",
       "39     f52         281\n",
       "68     f81         263\n",
       "30     f31         262\n",
       "24     f25         248\n",
       "33     f34         247\n",
       "69     f82         237\n",
       "25     f26         234\n",
       "246   f259         230\n",
       "35     f48         229\n",
       "92    f105         223\n",
       "37     f50         223\n",
       "50     f63         219\n",
       "29     f30         217\n",
       "73     f86         214\n",
       "70     f83         212\n",
       "32     f33         210\n",
       "71     f84         209\n",
       "38     f51         205\n",
       "34     f35         204\n",
       "36     f49         203\n",
       "..     ...         ...\n",
       "114   f127           7\n",
       "139   f152           7\n",
       "174   f187           6\n",
       "122   f135           6\n",
       "187   f200           6\n",
       "156   f169           6\n",
       "178   f191           6\n",
       "215   f228           6\n",
       "1       f2           6\n",
       "161   f174           6\n",
       "173   f186           6\n",
       "126   f139           5\n",
       "243   f256           5\n",
       "176   f189           5\n",
       "255   f268           5\n",
       "157   f170           5\n",
       "108   f121           5\n",
       "160   f173           4\n",
       "46     f59           4\n",
       "147   f160           4\n",
       "155   f168           4\n",
       "186   f199           4\n",
       "177   f190           3\n",
       "241   f254           3\n",
       "154   f167           3\n",
       "3       f4           3\n",
       "140   f153           2\n",
       "153   f166           1\n",
       "128   f141           1\n",
       "259   f272           1\n",
       "\n",
       "[285 rows x 2 columns]"
      ]
     },
     "execution_count": 20,
     "metadata": {},
     "output_type": "execute_result"
    }
   ],
   "source": [
    "feature_imp.sort_values(by=\"importance\",ascending=False)"
   ]
  },
  {
   "cell_type": "code",
   "execution_count": 21,
   "metadata": {},
   "outputs": [],
   "source": [
    "imp_fea = feature_imp.sort_values(by=\"importance\",ascending=False)"
   ]
  },
  {
   "cell_type": "code",
   "execution_count": 23,
   "metadata": {},
   "outputs": [],
   "source": [
    "imp150 = imp_fea.reset_index().loc[:150, \"column\"]"
   ]
  },
  {
   "cell_type": "code",
   "execution_count": 24,
   "metadata": {},
   "outputs": [
    {
     "data": {
      "text/plain": [
       "0        f7\n",
       "1        f5\n",
       "2      f210\n",
       "3      f106\n",
       "4       f85\n",
       "5       f53\n",
       "6       f24\n",
       "7      f101\n",
       "8      f238\n",
       "9       f58\n",
       "10      f52\n",
       "11      f81\n",
       "12      f31\n",
       "13      f25\n",
       "14      f34\n",
       "15      f82\n",
       "16      f26\n",
       "17     f259\n",
       "18      f48\n",
       "19     f105\n",
       "20      f50\n",
       "21      f63\n",
       "22      f30\n",
       "23      f86\n",
       "24      f83\n",
       "25      f33\n",
       "26      f84\n",
       "27      f51\n",
       "28      f35\n",
       "29      f49\n",
       "       ... \n",
       "121    f224\n",
       "122    f231\n",
       "123    f134\n",
       "124    f156\n",
       "125    f151\n",
       "126    f283\n",
       "127    f232\n",
       "128     f69\n",
       "129    f281\n",
       "130    f183\n",
       "131     f22\n",
       "132     f17\n",
       "133    f284\n",
       "134    f112\n",
       "135    f143\n",
       "136    f165\n",
       "137     f20\n",
       "138     f71\n",
       "139    f242\n",
       "140    f107\n",
       "141    f213\n",
       "142     f64\n",
       "143    f142\n",
       "144    f179\n",
       "145    f214\n",
       "146    f249\n",
       "147    f120\n",
       "148    f233\n",
       "149     f97\n",
       "150     f96\n",
       "Name: column, Length: 151, dtype: object"
      ]
     },
     "execution_count": 24,
     "metadata": {},
     "output_type": "execute_result"
    }
   ],
   "source": [
    "imp150"
   ]
  },
  {
   "cell_type": "code",
   "execution_count": 25,
   "metadata": {},
   "outputs": [],
   "source": [
    "train_nan = train_set.loc[:, imp150].isnull().sum(axis=1)"
   ]
  },
  {
   "cell_type": "code",
   "execution_count": 32,
   "metadata": {},
   "outputs": [],
   "source": [
    "train_set = train_set[train_nan<70]"
   ]
  },
  {
   "cell_type": "code",
   "execution_count": 33,
   "metadata": {},
   "outputs": [
    {
     "data": {
      "text/plain": [
       "61794"
      ]
     },
     "execution_count": 33,
     "metadata": {},
     "output_type": "execute_result"
    }
   ],
   "source": [
    "np.sum(train_nan>70)"
   ]
  },
  {
   "cell_type": "code",
   "execution_count": 34,
   "metadata": {},
   "outputs": [],
   "source": [
    "train_label = train_label[train_nan<70]"
   ]
  },
  {
   "cell_type": "code",
   "execution_count": 35,
   "metadata": {},
   "outputs": [
    {
     "data": {
      "text/plain": [
       "(639688, 285)"
      ]
     },
     "execution_count": 35,
     "metadata": {},
     "output_type": "execute_result"
    }
   ],
   "source": [
    "train_set.shape"
   ]
  },
  {
   "cell_type": "code",
   "execution_count": 37,
   "metadata": {},
   "outputs": [],
   "source": [
    "eva_nan = eva_set.loc[:, imp150].isnull().sum(axis=1)"
   ]
  },
  {
   "cell_type": "code",
   "execution_count": 38,
   "metadata": {},
   "outputs": [],
   "source": [
    "eva_set = eva_set[eva_nan<70]"
   ]
  },
  {
   "cell_type": "code",
   "execution_count": 39,
   "metadata": {},
   "outputs": [],
   "source": [
    "eva_label = eva_label[eva_nan<70]"
   ]
  },
  {
   "cell_type": "code",
   "execution_count": 40,
   "metadata": {},
   "outputs": [
    {
     "data": {
      "text/plain": [
       "(144093, 285)"
      ]
     },
     "execution_count": 40,
     "metadata": {},
     "output_type": "execute_result"
    }
   ],
   "source": [
    "eva_set.shape"
   ]
  },
  {
   "cell_type": "code",
   "execution_count": 41,
   "metadata": {},
   "outputs": [],
   "source": [
    "lgb_train=lgb.Dataset(train_set,train_label,free_raw_data=False)\n",
    "lgb_valid=lgb.Dataset(eva_set,eva_label,reference=lgb_train,free_raw_data=False)\n",
    "params = {'boosting_type': 'gbdt',\n",
    "          'objective': 'binary', \n",
    "          'metric': 'auc', \n",
    "          'device': 'cpu', \n",
    "          'verbose': 0, \n",
    "          'learning_rate': 0.01, \n",
    "          'bagging_fraction': 0.8,\n",
    "          'bagging_freq': 5,\n",
    "          'feature_fraction': 0.9,\n",
    "          'lambda_l1': 0.006, \n",
    "          'num_leaves': 128,\n",
    "          'early_stopping_round': 30\n",
    "}"
   ]
  },
  {
   "cell_type": "code",
   "execution_count": 42,
   "metadata": {},
   "outputs": [
    {
     "name": "stderr",
     "output_type": "stream",
     "text": [
      "D:\\anaconda\\lib\\site-packages\\lightgbm\\engine.py:104: UserWarning: Found `early_stopping_round` in params. Will use it instead of argument\n",
      "  warnings.warn(\"Found `{}` in params. Will use it instead of argument\".format(alias))\n"
     ]
    },
    {
     "name": "stdout",
     "output_type": "stream",
     "text": [
      "Training until validation scores don't improve for 30 rounds.\n",
      "Early stopping, best iteration is:\n",
      "[65]\tvalid_set's auc: 0.982957\tvalid_set's atec_metric: 0.67485\n"
     ]
    }
   ],
   "source": [
    "gbm=lgb.train(params, lgb_train, num_boost_round=2000, valid_sets=lgb_valid, valid_names='valid_set', feval=atec_metric, verbose_eval=500)"
   ]
  },
  {
   "cell_type": "code",
   "execution_count": 43,
   "metadata": {},
   "outputs": [],
   "source": [
    "df_test = pd.read_csv(\"E:\\\\leonhardt\\\\mayi\\\\data\\\\test_a.csv\")"
   ]
  },
  {
   "cell_type": "code",
   "execution_count": 44,
   "metadata": {},
   "outputs": [],
   "source": [
    "df_test.drop([\"date\",\"id\"],axis=1, inplace=True)"
   ]
  },
  {
   "cell_type": "code",
   "execution_count": 45,
   "metadata": {},
   "outputs": [],
   "source": [
    "df_test.drop(col_null, axis=1, inplace=True)"
   ]
  },
  {
   "cell_type": "code",
   "execution_count": 46,
   "metadata": {},
   "outputs": [],
   "source": [
    "y_preds = gbm.predict(df_test)"
   ]
  },
  {
   "cell_type": "code",
   "execution_count": 47,
   "metadata": {},
   "outputs": [
    {
     "data": {
      "text/plain": [
       "(491668,)"
      ]
     },
     "execution_count": 47,
     "metadata": {},
     "output_type": "execute_result"
    }
   ],
   "source": [
    "y_preds.shape"
   ]
  },
  {
   "cell_type": "code",
   "execution_count": 49,
   "metadata": {},
   "outputs": [],
   "source": [
    "np.savetxt(\"E:\\\\leonhardt\\\\mayi\\\\mayi\\\\ipython\\\\prediction/lgb_kaggle_imp150.txt\", y_preds, delimiter=',')"
   ]
  },
  {
   "cell_type": "code",
   "execution_count": 102,
   "metadata": {},
   "outputs": [],
   "source": [
    "updata = pd.DataFrame()\n",
    "updata[\"id\"] = df_test.index\n",
    "updata[\"score\"] = y_preds2\n",
    "updata.to_csv(\"E:\\\\leonhardt\\\\mayi\\\\mayi\\\\ipython\\\\update/lgb_imp.csv\", index=None)"
   ]
  },
  {
   "cell_type": "code",
   "execution_count": 50,
   "metadata": {},
   "outputs": [],
   "source": [
    "imp100 = imp_fea.reset_index().loc[:100, \"column\"]"
   ]
  },
  {
   "cell_type": "code",
   "execution_count": 51,
   "metadata": {},
   "outputs": [],
   "source": [
    "imp100_ = list(imp100.values)"
   ]
  },
  {
   "cell_type": "code",
   "execution_count": 52,
   "metadata": {},
   "outputs": [
    {
     "data": {
      "text/plain": [
       "['f7',\n",
       " 'f5',\n",
       " 'f210',\n",
       " 'f106',\n",
       " 'f85',\n",
       " 'f53',\n",
       " 'f24',\n",
       " 'f101',\n",
       " 'f238',\n",
       " 'f58',\n",
       " 'f52',\n",
       " 'f81',\n",
       " 'f31',\n",
       " 'f25',\n",
       " 'f34',\n",
       " 'f82',\n",
       " 'f26',\n",
       " 'f259',\n",
       " 'f48',\n",
       " 'f105',\n",
       " 'f50',\n",
       " 'f63',\n",
       " 'f30',\n",
       " 'f86',\n",
       " 'f83',\n",
       " 'f33',\n",
       " 'f84',\n",
       " 'f51',\n",
       " 'f35',\n",
       " 'f49',\n",
       " 'f32',\n",
       " 'f235',\n",
       " 'f185',\n",
       " 'f260',\n",
       " 'f57',\n",
       " 'f29',\n",
       " 'f28',\n",
       " 'f262',\n",
       " 'f234',\n",
       " 'f27',\n",
       " 'f100',\n",
       " 'f204',\n",
       " 'f266',\n",
       " 'f263',\n",
       " 'f54',\n",
       " 'f80',\n",
       " 'f253',\n",
       " 'f237',\n",
       " 'f56',\n",
       " 'f202',\n",
       " 'f244',\n",
       " 'f55',\n",
       " 'f209',\n",
       " 'f270',\n",
       " 'f103',\n",
       " 'f215',\n",
       " 'f102',\n",
       " 'f104',\n",
       " 'f261',\n",
       " 'f278',\n",
       " 'f245',\n",
       " 'f240',\n",
       " 'f241',\n",
       " 'f265',\n",
       " 'f290',\n",
       " 'f77',\n",
       " 'f239',\n",
       " 'f236',\n",
       " 'f218',\n",
       " 'f206',\n",
       " 'f21',\n",
       " 'f73',\n",
       " 'f78',\n",
       " 'f98',\n",
       " 'f184',\n",
       " 'f205',\n",
       " 'f264',\n",
       " 'f282',\n",
       " 'f279',\n",
       " 'f178',\n",
       " 'f251',\n",
       " 'f291',\n",
       " 'f216',\n",
       " 'f110',\n",
       " 'f99',\n",
       " 'f296',\n",
       " 'f62',\n",
       " 'f113',\n",
       " 'f222',\n",
       " 'f252',\n",
       " 'f246',\n",
       " 'f226',\n",
       " 'f161',\n",
       " 'f182',\n",
       " 'f248',\n",
       " 'f90',\n",
       " 'f91',\n",
       " 'f76',\n",
       " 'f75',\n",
       " 'f207',\n",
       " 'f217']"
      ]
     },
     "execution_count": 52,
     "metadata": {},
     "output_type": "execute_result"
    }
   ],
   "source": [
    "imp100_"
   ]
  },
  {
   "cell_type": "code",
   "execution_count": 58,
   "metadata": {},
   "outputs": [],
   "source": [
    "lgb_train=lgb.Dataset(train_set,train_label,free_raw_data=False, categorical_feature=imp100_)\n",
    "lgb_valid=lgb.Dataset(eva_set,eva_label,reference=lgb_train,free_raw_data=False,categorical_feature=imp100_)\n",
    "params = {'boosting_type': 'gbdt',\n",
    "          'objective': 'binary', \n",
    "          'metric': 'auc', \n",
    "          'device': 'cpu', \n",
    "          'verbose': 0, \n",
    "          'learning_rate': 0.01, \n",
    "          'bagging_fraction': 0.8,\n",
    "          'bagging_freq': 5,\n",
    "          'feature_fraction': 0.9,\n",
    "          'lambda_l1': 0.006, \n",
    "          'num_leaves': 128,\n",
    "          'early_stopping_round': 30\n",
    "}"
   ]
  },
  {
   "cell_type": "code",
   "execution_count": 59,
   "metadata": {},
   "outputs": [
    {
     "name": "stderr",
     "output_type": "stream",
     "text": [
      "D:\\anaconda\\lib\\site-packages\\lightgbm\\engine.py:104: UserWarning: Found `early_stopping_round` in params. Will use it instead of argument\n",
      "  warnings.warn(\"Found `{}` in params. Will use it instead of argument\".format(alias))\n",
      "D:\\anaconda\\lib\\site-packages\\lightgbm\\basic.py:681: UserWarning: categorical_feature in param dict is overridden.\n",
      "  warnings.warn('categorical_feature in param dict is overridden.')\n"
     ]
    },
    {
     "name": "stdout",
     "output_type": "stream",
     "text": [
      "Training until validation scores don't improve for 30 rounds.\n",
      "Early stopping, best iteration is:\n",
      "[129]\tvalid_set's auc: 0.984879\tvalid_set's atec_metric: 0.632733\n"
     ]
    }
   ],
   "source": [
    "# gbm=lgb.train(params, lgb_train, num_boost_round=1000, valid_sets=lgb_valid, valid_names='valid_set', feval=atec_metric, verbose_eval=500, categorical_feature=imp100_)"
   ]
  },
  {
   "cell_type": "code",
   "execution_count": 61,
   "metadata": {},
   "outputs": [
    {
     "name": "stdout",
     "output_type": "stream",
     "text": [
      "[500]\tvalid_set's auc: 0.989871\tvalid_set's atec_metric: 0.674099\n",
      "[1000]\tvalid_set's auc: 0.991741\tvalid_set's atec_metric: 0.675976\n"
     ]
    }
   ],
   "source": [
    "gbm=lgb.train(params, lgb_train, num_boost_round=1300, valid_sets=lgb_valid, valid_names='valid_set', feval=atec_metric, verbose_eval=500,categorical_feature=imp100_)"
   ]
  },
  {
   "cell_type": "code",
   "execution_count": 62,
   "metadata": {},
   "outputs": [],
   "source": [
    "y_preds2 = gbm.predict(df_test)"
   ]
  },
  {
   "cell_type": "code",
   "execution_count": 65,
   "metadata": {},
   "outputs": [],
   "source": [
    "np.savetxt(\"E:\\\\leonhardt\\\\mayi\\\\mayi\\\\ipython\\\\prediction/lgb_kaggle_imp100.txt\", y_preds2, delimiter=',')"
   ]
  },
  {
   "cell_type": "code",
   "execution_count": 64,
   "metadata": {},
   "outputs": [
    {
     "data": {
      "text/plain": [
       "array([5.26309357e-05, 4.05642182e-04, 1.13310711e-05, ...,\n",
       "       7.28640171e-06, 3.06772291e-05, 2.29305406e-05])"
      ]
     },
     "execution_count": 64,
     "metadata": {},
     "output_type": "execute_result"
    }
   ],
   "source": [
    "y_preds2"
   ]
  },
  {
   "cell_type": "code",
   "execution_count": 66,
   "metadata": {},
   "outputs": [],
   "source": [
    "from imblearn.under_sampling import RandomUnderSampler"
   ]
  },
  {
   "cell_type": "code",
   "execution_count": 68,
   "metadata": {},
   "outputs": [
    {
     "data": {
      "text/plain": [
       "634742"
      ]
     },
     "execution_count": 68,
     "metadata": {},
     "output_type": "execute_result"
    }
   ],
   "source": [
    "np.sum(train_label==0)"
   ]
  },
  {
   "cell_type": "code",
   "execution_count": 71,
   "metadata": {},
   "outputs": [],
   "source": [
    "rus_trian = RandomUnderSampler(ratio={0:49000, 1:4900}, random_state=47)\n",
    "train_rus, label_rus = rus_trian.fit_sample(train_set.fillna(-1), train_label)"
   ]
  },
  {
   "cell_type": "code",
   "execution_count": 80,
   "metadata": {},
   "outputs": [],
   "source": [
    "imp150 = list(imp150)"
   ]
  },
  {
   "cell_type": "code",
   "execution_count": 81,
   "metadata": {},
   "outputs": [],
   "source": [
    "train_rus_set = lgb.Dataset(train_set,train_label,free_raw_data=False, categorical_feature=imp150)\n",
    "eval_rus_set = lgb.Dataset(eva_set.fillna(-1),eva_label,reference=lgb_train,free_raw_data=False,categorical_feature=imp150)\n",
    "params = {'boosting_type': 'gbdt',\n",
    "          'objective': 'binary', \n",
    "          'metric': 'auc', \n",
    "          'device': 'cpu', \n",
    "          'verbose': 0, \n",
    "          'learning_rate': 0.01, \n",
    "          'bagging_fraction': 0.8,\n",
    "          'bagging_freq': 5,\n",
    "          'feature_fraction': 0.9,\n",
    "          'lambda_l1': 0.006, \n",
    "          'num_leaves': 128,\n",
    "          'early_stopping_round': 30\n",
    "}"
   ]
  },
  {
   "cell_type": "code",
   "execution_count": 82,
   "metadata": {},
   "outputs": [
    {
     "name": "stderr",
     "output_type": "stream",
     "text": [
      "D:\\anaconda\\lib\\site-packages\\lightgbm\\engine.py:104: UserWarning: Found `early_stopping_round` in params. Will use it instead of argument\n",
      "  warnings.warn(\"Found `{}` in params. Will use it instead of argument\".format(alias))\n",
      "D:\\anaconda\\lib\\site-packages\\lightgbm\\basic.py:1038: UserWarning: categorical_feature in Dataset is overridden. New categorical_feature is ['f100', 'f101', 'f102', 'f103', 'f104', 'f105', 'f106', 'f107', 'f110', 'f112', 'f113', 'f120', 'f134', 'f142', 'f143', 'f148', 'f151', 'f156', 'f161', 'f164', 'f165', 'f17', 'f177', 'f178', 'f179', 'f182', 'f183', 'f184', 'f185', 'f20', 'f202', 'f204', 'f205', 'f206', 'f207', 'f208', 'f209', 'f21', 'f210', 'f213', 'f214', 'f215', 'f216', 'f217', 'f218', 'f22', 'f222', 'f224', 'f226', 'f23', 'f230', 'f231', 'f232', 'f233', 'f234', 'f235', 'f236', 'f237', 'f238', 'f239', 'f24', 'f240', 'f241', 'f242', 'f243', 'f244', 'f245', 'f246', 'f247', 'f248', 'f249', 'f25', 'f250', 'f251', 'f252', 'f253', 'f259', 'f26', 'f260', 'f261', 'f262', 'f263', 'f264', 'f265', 'f266', 'f27', 'f270', 'f271', 'f275', 'f278', 'f279', 'f28', 'f280', 'f281', 'f282', 'f283', 'f284', 'f285', 'f287', 'f289', 'f29', 'f290', 'f291', 'f296', 'f297', 'f30', 'f31', 'f32', 'f33', 'f34', 'f35', 'f48', 'f49', 'f5', 'f50', 'f51', 'f52', 'f53', 'f54', 'f55', 'f56', 'f57', 'f58', 'f61', 'f62', 'f63', 'f64', 'f69', 'f7', 'f71', 'f72', 'f73', 'f74', 'f75', 'f76', 'f77', 'f78', 'f79', 'f80', 'f81', 'f82', 'f83', 'f84', 'f85', 'f86', 'f90', 'f91', 'f96', 'f97', 'f98', 'f99']\n",
      "  warnings.warn('categorical_feature in Dataset is overridden. New categorical_feature is {}'.format(sorted(list(categorical_feature))))\n"
     ]
    },
    {
     "name": "stdout",
     "output_type": "stream",
     "text": [
      "Training until validation scores don't improve for 30 rounds.\n",
      "Early stopping, best iteration is:\n",
      "[142]\tvalid_set's auc: 0.979787\tvalid_set's atec_metric: 0.638213\n"
     ]
    }
   ],
   "source": [
    "gbm_rus = lgb.train(params, lgb_train, num_boost_round=1300, valid_sets=lgb_valid, valid_names='valid_set', feval=atec_metric, verbose_eval=500,categorical_feature=imp150)"
   ]
  },
  {
   "cell_type": "code",
   "execution_count": 85,
   "metadata": {},
   "outputs": [],
   "source": [
    "y_preds3_early = gbm_rus.predict(df_test.fillna(-1))"
   ]
  },
  {
   "cell_type": "code",
   "execution_count": 86,
   "metadata": {},
   "outputs": [],
   "source": [
    "np.savetxt(\"E:\\\\leonhardt\\\\mayi\\\\mayi\\\\ipython\\\\prediction/lgb_kaggle_imp150_rus.txt\", y_preds3_early, delimiter=',')"
   ]
  },
  {
   "cell_type": "code",
   "execution_count": 87,
   "metadata": {},
   "outputs": [],
   "source": [
    "train_rus_set = lgb.Dataset(train_set,train_label,free_raw_data=False, categorical_feature=imp150)\n",
    "eval_rus_set = lgb.Dataset(eva_set.fillna(-1),eva_label,reference=lgb_train,free_raw_data=False,categorical_feature=imp150)\n",
    "params = {'boosting_type': 'gbdt',\n",
    "          'objective': 'binary', \n",
    "          'metric': 'auc', \n",
    "          'device': 'cpu', \n",
    "          'verbose': 0, \n",
    "          'learning_rate': 0.01, \n",
    "          'bagging_fraction': 0.8,\n",
    "          'bagging_freq': 5,\n",
    "          'feature_fraction': 0.9,\n",
    "          'lambda_l1': 0.006, \n",
    "          'num_leaves': 128\n",
    "#           'early_stopping_round': 30\n",
    "}"
   ]
  },
  {
   "cell_type": "code",
   "execution_count": 89,
   "metadata": {},
   "outputs": [
    {
     "name": "stdout",
     "output_type": "stream",
     "text": [
      "[500]\tvalid_set's auc: 0.987911\tvalid_set's atec_metric: 0.665691\n",
      "[1000]\tvalid_set's auc: 0.991833\tvalid_set's atec_metric: 0.681381\n"
     ]
    }
   ],
   "source": [
    "gbm_rus_1 = lgb.train(params, lgb_train, num_boost_round=1300, valid_sets=lgb_valid, valid_names='valid_set', feval=atec_metric, verbose_eval=500,categorical_feature=imp150)"
   ]
  },
  {
   "cell_type": "code",
   "execution_count": 90,
   "metadata": {},
   "outputs": [],
   "source": [
    "y_preds3 = gbm_rus.predict(df_test.fillna(-1))"
   ]
  },
  {
   "cell_type": "code",
   "execution_count": 91,
   "metadata": {},
   "outputs": [],
   "source": [
    "np.savetxt(\"E:\\\\leonhardt\\\\mayi\\\\mayi\\\\ipython\\\\prediction/lgb_kaggle_imp150_rus1300.txt\", y_preds3, delimiter=',')"
   ]
  },
  {
   "cell_type": "code",
   "execution_count": null,
   "metadata": {},
   "outputs": [],
   "source": [
    "y_pr"
   ]
  }
 ],
 "metadata": {
  "kernelspec": {
   "display_name": "Python 3",
   "language": "python",
   "name": "python3"
  },
  "language_info": {
   "codemirror_mode": {
    "name": "ipython",
    "version": 3
   },
   "file_extension": ".py",
   "mimetype": "text/x-python",
   "name": "python",
   "nbconvert_exporter": "python",
   "pygments_lexer": "ipython3",
   "version": "3.6.5"
  }
 },
 "nbformat": 4,
 "nbformat_minor": 2
}
